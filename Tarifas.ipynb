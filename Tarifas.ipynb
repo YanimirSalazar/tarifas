{
 "cells": [
  {
   "cell_type": "markdown",
   "metadata": {},
   "source": [
    "# Contenido <a id='back'></a>\n",
    "\n",
    "* [Introducción](#intro)\n",
    "* [Etapa 1. Exploración de los datos](#exploracion_datos)\n",
    "    * [Inicialización](#inicializacion) \n",
    "    * [Cargar los datos](#cargar)\n",
    "* [Etapa 2. Preparar los datos](#preparar)\n",
    "    * [Planes](#planes)\n",
    "    * [Usuarios](#usuarios)\n",
    "     * [Conclusiones y siguientes pasos](#conclusiones_usuarios)\n",
    "     * [Corregir datos](#corregir_usuarios)\n",
    "     * [Enriqueser datos](#enriquecer_usuarios)\n",
    "    * [Llamadas](#llamadas)\n",
    "     * [Conclusiones y siguientes pasos](#conclusiones_llamadas)\n",
    "     * [Corregir datos](#corregir_llamadas)\n",
    "     * [Enriqueser datos](#enriquecer_llamadas)\n",
    "    * [Mensajes](#mensajes)\n",
    "     * [Conclusiones y siguientes pasos](#conclusiones_mensajes)\n",
    "     * [Corregir datos](#corregir_mensajes)\n",
    "     * [Enriqueser datos](#enriquecer_mensajes)\n",
    "    * [Internet](#internet)\n",
    "     * [Conclusiones y siguientes pasos](#conclusiones_internet)\n",
    "     * [Corregir datos](#corregir_internet)\n",
    "     * [Enriqueser datos](#enriquecer_internet)\n",
    "* [Etapa 3. Estudiar condiciones de los planes](#estudiar_condiciones)\n",
    "* [Etapa 4. Agregar datos por usuario](#agregar)\n",
    "* [Etapa 5. Estudiar el comportamiento del usuario](#estudiar)\n",
    "    * [Llamadas](#llamadas_usuarios)\n",
    "    * [Mensajes](#mensajes_usuarios)\n",
    "    * [Internet](#internet_usuarios)\n",
    "* [Etapa 6. Descripción del ingreso entre los planes](#descripcion)\n",
    "* [Etapa 7. Hipótesis estadísticas](#hipotesis)\n",
    "    * [Hipótesis 1: ¿Es diferente el ingreso promedio de los usuarios de los planes de llamada Ultimate y Surf?](#hipotesis_1)\n",
    "    * [Hipótesis 2: ¿el ingreso promedio de los usuarios del área NY-NJ es diferente al de los usuarios de otras regiones?](#hipotesis_2)\n",
    "* [Conclusión general](#general)\n",
    "           "
   ]
  },
  {
   "cell_type": "markdown",
   "metadata": {},
   "source": [
    "# ¿Cuál es un mejor plan? <a id='intro'></a>\n",
    "\n",
    "Trabajas como analista para el operador de telecomunicaciones Megaline. La empresa ofrece a sus clientes dos tarifas de prepago, Surf y Ultimate. El departamento comercial quiere saber cuál de los planes genera más ingresos para poder ajustar el presupuesto de publicidad.\n",
    "\n",
    "Vas a realizar un análisis preliminar de las tarifas basado en una selección de clientes relativamente pequeña. Tendrás los datos de 500 clientes de Megaline: quiénes son los clientes, de dónde son, qué tarifa usan, así como la cantidad de llamadas que hicieron y los mensajes de texto que enviaron en 2018. Tu trabajo es analizar el comportamiento de los clientes y determinar qué tarifa de prepago genera más ingresos."
   ]
  },
  {
   "cell_type": "markdown",
   "metadata": {},
   "source": [
    "Este proyecto tiene como propósito determinar cual de las tarifas de prepago entre Surf y Ultimate, le genera mas ingresos a la compañía, la información con la que se cuenta para el estudio son los datos de 500 clientes de Megaline donde se especifica la tarifa que tienen contratada, la cantidad de llamadas, cantidad de mensajes de texto que enviaron a lo largo del año 2018, Se van a tratar los valores ausentes, corregir los tipos de datos, hacer comprobaciones con los datos limpios, estudiar comportamientos de los usuarios, probar algunas hipótesis para luego determinar las conclusiones del estudio. \n"
   ]
  },
  {
   "cell_type": "markdown",
   "metadata": {},
   "source": [
    "## Inicialización <a id='inicializacion'></a>"
   ]
  },
  {
   "cell_type": "code",
   "execution_count": 2,
   "metadata": {},
   "outputs": [],
   "source": [
    "# Cargar todas las librerías\n",
    "\n",
    "import pandas as pd \n",
    "from datetime import datetime\n",
    "import numpy as np\n",
    "import math\n",
    "import matplotlib.pyplot as plt\n",
    "import seaborn as sns\n",
    "from scipy import stats as st"
   ]
  },
  {
   "cell_type": "markdown",
   "metadata": {},
   "source": [
    "## Cargar los datos <a id='cargar'></a>"
   ]
  },
  {
   "cell_type": "code",
   "execution_count": 3,
   "metadata": {},
   "outputs": [],
   "source": [
    "# Carga los archivos de datos en diferentes DataFrames\n",
    "\n",
    "plans= pd.read_csv('/datasets/megaline_plans.csv')\n",
    "users= pd.read_csv('/datasets/megaline_users.csv')\n",
    "calls = pd.read_csv('/datasets/megaline_calls.csv') \n",
    "messages= pd.read_csv('/datasets/megaline_messages.csv') \n",
    "internet= pd.read_csv('/datasets/megaline_internet.csv') \n"
   ]
  },
  {
   "cell_type": "markdown",
   "metadata": {},
   "source": [
    "## Preparar los datos <a id='preparar'></a>"
   ]
  },
  {
   "cell_type": "markdown",
   "metadata": {},
   "source": [
    "## Planes <a id='planes'></a>"
   ]
  },
  {
   "cell_type": "code",
   "execution_count": 4,
   "metadata": {},
   "outputs": [
    {
     "name": "stdout",
     "output_type": "stream",
     "text": [
      "<class 'pandas.core.frame.DataFrame'>\n",
      "RangeIndex: 2 entries, 0 to 1\n",
      "Data columns (total 8 columns):\n",
      " #   Column                 Non-Null Count  Dtype  \n",
      "---  ------                 --------------  -----  \n",
      " 0   messages_included      2 non-null      int64  \n",
      " 1   mb_per_month_included  2 non-null      int64  \n",
      " 2   minutes_included       2 non-null      int64  \n",
      " 3   usd_monthly_pay        2 non-null      int64  \n",
      " 4   usd_per_gb             2 non-null      int64  \n",
      " 5   usd_per_message        2 non-null      float64\n",
      " 6   usd_per_minute         2 non-null      float64\n",
      " 7   plan_name              2 non-null      object \n",
      "dtypes: float64(2), int64(5), object(1)\n",
      "memory usage: 256.0+ bytes\n"
     ]
    }
   ],
   "source": [
    "# Imprime la información general/resumen sobre el DataFrame de los planes\n",
    "plans.info()"
   ]
  },
  {
   "cell_type": "code",
   "execution_count": 5,
   "metadata": {},
   "outputs": [
    {
     "data": {
      "text/html": [
       "<div>\n",
       "<style scoped>\n",
       "    .dataframe tbody tr th:only-of-type {\n",
       "        vertical-align: middle;\n",
       "    }\n",
       "\n",
       "    .dataframe tbody tr th {\n",
       "        vertical-align: top;\n",
       "    }\n",
       "\n",
       "    .dataframe thead th {\n",
       "        text-align: right;\n",
       "    }\n",
       "</style>\n",
       "<table border=\"1\" class=\"dataframe\">\n",
       "  <thead>\n",
       "    <tr style=\"text-align: right;\">\n",
       "      <th></th>\n",
       "      <th>messages_included</th>\n",
       "      <th>mb_per_month_included</th>\n",
       "      <th>minutes_included</th>\n",
       "      <th>usd_monthly_pay</th>\n",
       "      <th>usd_per_gb</th>\n",
       "      <th>usd_per_message</th>\n",
       "      <th>usd_per_minute</th>\n",
       "      <th>plan_name</th>\n",
       "    </tr>\n",
       "  </thead>\n",
       "  <tbody>\n",
       "    <tr>\n",
       "      <th>0</th>\n",
       "      <td>50</td>\n",
       "      <td>15360</td>\n",
       "      <td>500</td>\n",
       "      <td>20</td>\n",
       "      <td>10</td>\n",
       "      <td>0.03</td>\n",
       "      <td>0.03</td>\n",
       "      <td>surf</td>\n",
       "    </tr>\n",
       "    <tr>\n",
       "      <th>1</th>\n",
       "      <td>1000</td>\n",
       "      <td>30720</td>\n",
       "      <td>3000</td>\n",
       "      <td>70</td>\n",
       "      <td>7</td>\n",
       "      <td>0.01</td>\n",
       "      <td>0.01</td>\n",
       "      <td>ultimate</td>\n",
       "    </tr>\n",
       "  </tbody>\n",
       "</table>\n",
       "</div>"
      ],
      "text/plain": [
       "   messages_included  mb_per_month_included  minutes_included  \\\n",
       "0                 50                  15360               500   \n",
       "1               1000                  30720              3000   \n",
       "\n",
       "   usd_monthly_pay  usd_per_gb  usd_per_message  usd_per_minute plan_name  \n",
       "0               20          10             0.03            0.03      surf  \n",
       "1               70           7             0.01            0.01  ultimate  "
      ]
     },
     "execution_count": 5,
     "metadata": {},
     "output_type": "execute_result"
    }
   ],
   "source": [
    "# Imprime una muestra de los datos para los planes\n",
    "plans.head()"
   ]
  },
  {
   "cell_type": "markdown",
   "metadata": {},
   "source": [
    "El dataset plans contiene los siguientes campos:\n",
    "\n",
    "- `messages_included` — SMS incluidos al mes \n",
    "- `mb_per_month_included` — datos incluidos al mes (en megabytes)        \n",
    "- `minutes_included`  — minutos incluidos al mes     \n",
    "- `usd_monthly_pay` — pago mensual en dólares estadounidenses        \n",
    "- `usd_per_gb`  — Precio por gigabyte de los datos extra tras exceder los límites del paquete (1 GB = 1024 megabytes)            - `usd_per_message` — precio por SMS tras exceder los límites del paquete        \n",
    "- `usd_per_minute` —  precio por minuto tras exceder los límites del paquete       \n",
    "- `plan_name` — nombre de la tarifa     \n",
    "\n",
    "Tenemos un conjunto de datos conformado por 8 columnas y 2 filas, no se necesita ajustar tipos de datos y tampoco tiene valores ausentes, solo se cambiará el nombre de la columna plan_name a plan para relacionar con las otras tablas.  "
   ]
  },
  {
   "cell_type": "markdown",
   "metadata": {},
   "source": [
    " "
   ]
  },
  {
   "cell_type": "code",
   "execution_count": 6,
   "metadata": {},
   "outputs": [
    {
     "name": "stdout",
     "output_type": "stream",
     "text": [
      "<class 'pandas.core.frame.DataFrame'>\n",
      "RangeIndex: 2 entries, 0 to 1\n",
      "Data columns (total 8 columns):\n",
      " #   Column                 Non-Null Count  Dtype  \n",
      "---  ------                 --------------  -----  \n",
      " 0   messages_included      2 non-null      int64  \n",
      " 1   mb_per_month_included  2 non-null      int64  \n",
      " 2   minutes_included       2 non-null      int64  \n",
      " 3   usd_monthly_pay        2 non-null      int64  \n",
      " 4   usd_per_gb             2 non-null      int64  \n",
      " 5   usd_per_message        2 non-null      float64\n",
      " 6   usd_per_minute         2 non-null      float64\n",
      " 7   plan                   2 non-null      object \n",
      "dtypes: float64(2), int64(5), object(1)\n",
      "memory usage: 256.0+ bytes\n"
     ]
    }
   ],
   "source": [
    "# Cambiar nombre de columna plan_name\n",
    "plans.columns=['messages_included','mb_per_month_included','minutes_included','usd_monthly_pay','usd_per_gb','usd_per_message','usd_per_minute','plan']\n",
    "plans.info()"
   ]
  },
  {
   "cell_type": "markdown",
   "metadata": {},
   "source": [
    "## Usuarios <a id='usuarios'></a>"
   ]
  },
  {
   "cell_type": "code",
   "execution_count": 7,
   "metadata": {},
   "outputs": [
    {
     "name": "stdout",
     "output_type": "stream",
     "text": [
      "<class 'pandas.core.frame.DataFrame'>\n",
      "RangeIndex: 500 entries, 0 to 499\n",
      "Data columns (total 8 columns):\n",
      " #   Column      Non-Null Count  Dtype \n",
      "---  ------      --------------  ----- \n",
      " 0   user_id     500 non-null    int64 \n",
      " 1   first_name  500 non-null    object\n",
      " 2   last_name   500 non-null    object\n",
      " 3   age         500 non-null    int64 \n",
      " 4   city        500 non-null    object\n",
      " 5   reg_date    500 non-null    object\n",
      " 6   plan        500 non-null    object\n",
      " 7   churn_date  34 non-null     object\n",
      "dtypes: int64(2), object(6)\n",
      "memory usage: 31.4+ KB\n"
     ]
    }
   ],
   "source": [
    "# Imprime la información general/resumen sobre el DataFrame de los usuarios\n",
    "\n",
    "users.info()"
   ]
  },
  {
   "cell_type": "code",
   "execution_count": 8,
   "metadata": {},
   "outputs": [
    {
     "data": {
      "text/html": [
       "<div>\n",
       "<style scoped>\n",
       "    .dataframe tbody tr th:only-of-type {\n",
       "        vertical-align: middle;\n",
       "    }\n",
       "\n",
       "    .dataframe tbody tr th {\n",
       "        vertical-align: top;\n",
       "    }\n",
       "\n",
       "    .dataframe thead th {\n",
       "        text-align: right;\n",
       "    }\n",
       "</style>\n",
       "<table border=\"1\" class=\"dataframe\">\n",
       "  <thead>\n",
       "    <tr style=\"text-align: right;\">\n",
       "      <th></th>\n",
       "      <th>user_id</th>\n",
       "      <th>first_name</th>\n",
       "      <th>last_name</th>\n",
       "      <th>age</th>\n",
       "      <th>city</th>\n",
       "      <th>reg_date</th>\n",
       "      <th>plan</th>\n",
       "      <th>churn_date</th>\n",
       "    </tr>\n",
       "  </thead>\n",
       "  <tbody>\n",
       "    <tr>\n",
       "      <th>0</th>\n",
       "      <td>1000</td>\n",
       "      <td>Anamaria</td>\n",
       "      <td>Bauer</td>\n",
       "      <td>45</td>\n",
       "      <td>Atlanta-Sandy Springs-Roswell, GA MSA</td>\n",
       "      <td>2018-12-24</td>\n",
       "      <td>ultimate</td>\n",
       "      <td>NaN</td>\n",
       "    </tr>\n",
       "    <tr>\n",
       "      <th>1</th>\n",
       "      <td>1001</td>\n",
       "      <td>Mickey</td>\n",
       "      <td>Wilkerson</td>\n",
       "      <td>28</td>\n",
       "      <td>Seattle-Tacoma-Bellevue, WA MSA</td>\n",
       "      <td>2018-08-13</td>\n",
       "      <td>surf</td>\n",
       "      <td>NaN</td>\n",
       "    </tr>\n",
       "    <tr>\n",
       "      <th>2</th>\n",
       "      <td>1002</td>\n",
       "      <td>Carlee</td>\n",
       "      <td>Hoffman</td>\n",
       "      <td>36</td>\n",
       "      <td>Las Vegas-Henderson-Paradise, NV MSA</td>\n",
       "      <td>2018-10-21</td>\n",
       "      <td>surf</td>\n",
       "      <td>NaN</td>\n",
       "    </tr>\n",
       "    <tr>\n",
       "      <th>3</th>\n",
       "      <td>1003</td>\n",
       "      <td>Reynaldo</td>\n",
       "      <td>Jenkins</td>\n",
       "      <td>52</td>\n",
       "      <td>Tulsa, OK MSA</td>\n",
       "      <td>2018-01-28</td>\n",
       "      <td>surf</td>\n",
       "      <td>NaN</td>\n",
       "    </tr>\n",
       "    <tr>\n",
       "      <th>4</th>\n",
       "      <td>1004</td>\n",
       "      <td>Leonila</td>\n",
       "      <td>Thompson</td>\n",
       "      <td>40</td>\n",
       "      <td>Seattle-Tacoma-Bellevue, WA MSA</td>\n",
       "      <td>2018-05-23</td>\n",
       "      <td>surf</td>\n",
       "      <td>NaN</td>\n",
       "    </tr>\n",
       "  </tbody>\n",
       "</table>\n",
       "</div>"
      ],
      "text/plain": [
       "   user_id first_name  last_name  age                                   city  \\\n",
       "0     1000   Anamaria      Bauer   45  Atlanta-Sandy Springs-Roswell, GA MSA   \n",
       "1     1001     Mickey  Wilkerson   28        Seattle-Tacoma-Bellevue, WA MSA   \n",
       "2     1002     Carlee    Hoffman   36   Las Vegas-Henderson-Paradise, NV MSA   \n",
       "3     1003   Reynaldo    Jenkins   52                          Tulsa, OK MSA   \n",
       "4     1004    Leonila   Thompson   40        Seattle-Tacoma-Bellevue, WA MSA   \n",
       "\n",
       "     reg_date      plan churn_date  \n",
       "0  2018-12-24  ultimate        NaN  \n",
       "1  2018-08-13      surf        NaN  \n",
       "2  2018-10-21      surf        NaN  \n",
       "3  2018-01-28      surf        NaN  \n",
       "4  2018-05-23      surf        NaN  "
      ]
     },
     "execution_count": 8,
     "metadata": {},
     "output_type": "execute_result"
    }
   ],
   "source": [
    "# Imprime una muestra de los datos para los usuarios\n",
    "users.head()"
   ]
  },
  {
   "cell_type": "markdown",
   "metadata": {},
   "source": [
    "El dataset users contiene los siguientes campos:\n",
    "\n",
    "- `user_id` — identificador único del usuario     \n",
    "- `first_name`  — nombre del usuario\n",
    "- `last_name`  — apellido del usuario \n",
    "- `age` — edad del usuario (en años)   \n",
    "- `city` — ciudad de residencia del usuario       \n",
    "- `reg_date` — fecha de suscripción (dd, mm, aa)  \n",
    "- `plan` — nombre de la tarifa       \n",
    "- `churn_date` — la fecha en que el usuario dejó de usar el servicio\n",
    "\n",
    "Tenemos un conjunto de datos conformado por 8 columnas, en algunas se necesita ajustar su tipo de dato y la columna churn_date tiene valores ausentes, además tiene 500 filas lo que es correcto ya que el estudio se realiza con la información de 500 clientes. "
   ]
  },
  {
   "cell_type": "markdown",
   "metadata": {},
   "source": [
    " ### Conclusiones y siguientes pasos <a id='conclusiones_usuarios'></a>"
   ]
  },
  {
   "cell_type": "markdown",
   "metadata": {},
   "source": [
    "En vista que los datos presentan algunos problemas que deben ser tratados, la columna churn_date tiene una gran cantidad de valores ausentes pero se puede intuir que esto se debe a que los que no cuentan con este dato es porque eran usuarios activos al momento de la toma de la muestra por lo que se dejará vacio y en base a esto podemos enriquecer los datos con una columna donde se especifique si el cliente está activo o no lo está, además se modificará el tipo de datos de las columnas reg_date y churn_date al tipo datetime.  "
   ]
  },
  {
   "cell_type": "markdown",
   "metadata": {},
   "source": [
    "### Corregir datos <a id='corregir_usuarios'></a>"
   ]
  },
  {
   "cell_type": "code",
   "execution_count": 9,
   "metadata": {},
   "outputs": [
    {
     "data": {
      "text/plain": [
       "user_id         0\n",
       "first_name      0\n",
       "last_name       0\n",
       "age             0\n",
       "city            0\n",
       "reg_date        0\n",
       "plan            0\n",
       "churn_date    466\n",
       "dtype: int64"
      ]
     },
     "execution_count": 9,
     "metadata": {},
     "output_type": "execute_result"
    }
   ],
   "source": [
    "# ver valores ausentes\n",
    "users.isnull().sum()"
   ]
  },
  {
   "cell_type": "code",
   "execution_count": 10,
   "metadata": {},
   "outputs": [
    {
     "data": {
      "text/html": [
       "<div>\n",
       "<style scoped>\n",
       "    .dataframe tbody tr th:only-of-type {\n",
       "        vertical-align: middle;\n",
       "    }\n",
       "\n",
       "    .dataframe tbody tr th {\n",
       "        vertical-align: top;\n",
       "    }\n",
       "\n",
       "    .dataframe thead th {\n",
       "        text-align: right;\n",
       "    }\n",
       "</style>\n",
       "<table border=\"1\" class=\"dataframe\">\n",
       "  <thead>\n",
       "    <tr style=\"text-align: right;\">\n",
       "      <th></th>\n",
       "      <th>user_id</th>\n",
       "      <th>first_name</th>\n",
       "      <th>last_name</th>\n",
       "      <th>age</th>\n",
       "      <th>city</th>\n",
       "      <th>reg_date</th>\n",
       "      <th>plan</th>\n",
       "      <th>churn_date</th>\n",
       "    </tr>\n",
       "  </thead>\n",
       "  <tbody>\n",
       "    <tr>\n",
       "      <th>0</th>\n",
       "      <td>1000</td>\n",
       "      <td>Anamaria</td>\n",
       "      <td>Bauer</td>\n",
       "      <td>45</td>\n",
       "      <td>Atlanta-Sandy Springs-Roswell, GA MSA</td>\n",
       "      <td>2018-12-24</td>\n",
       "      <td>ultimate</td>\n",
       "      <td>NaN</td>\n",
       "    </tr>\n",
       "    <tr>\n",
       "      <th>1</th>\n",
       "      <td>1001</td>\n",
       "      <td>Mickey</td>\n",
       "      <td>Wilkerson</td>\n",
       "      <td>28</td>\n",
       "      <td>Seattle-Tacoma-Bellevue, WA MSA</td>\n",
       "      <td>2018-08-13</td>\n",
       "      <td>surf</td>\n",
       "      <td>NaN</td>\n",
       "    </tr>\n",
       "    <tr>\n",
       "      <th>2</th>\n",
       "      <td>1002</td>\n",
       "      <td>Carlee</td>\n",
       "      <td>Hoffman</td>\n",
       "      <td>36</td>\n",
       "      <td>Las Vegas-Henderson-Paradise, NV MSA</td>\n",
       "      <td>2018-10-21</td>\n",
       "      <td>surf</td>\n",
       "      <td>NaN</td>\n",
       "    </tr>\n",
       "    <tr>\n",
       "      <th>3</th>\n",
       "      <td>1003</td>\n",
       "      <td>Reynaldo</td>\n",
       "      <td>Jenkins</td>\n",
       "      <td>52</td>\n",
       "      <td>Tulsa, OK MSA</td>\n",
       "      <td>2018-01-28</td>\n",
       "      <td>surf</td>\n",
       "      <td>NaN</td>\n",
       "    </tr>\n",
       "    <tr>\n",
       "      <th>4</th>\n",
       "      <td>1004</td>\n",
       "      <td>Leonila</td>\n",
       "      <td>Thompson</td>\n",
       "      <td>40</td>\n",
       "      <td>Seattle-Tacoma-Bellevue, WA MSA</td>\n",
       "      <td>2018-05-23</td>\n",
       "      <td>surf</td>\n",
       "      <td>NaN</td>\n",
       "    </tr>\n",
       "    <tr>\n",
       "      <th>5</th>\n",
       "      <td>1005</td>\n",
       "      <td>Livia</td>\n",
       "      <td>Shields</td>\n",
       "      <td>31</td>\n",
       "      <td>Dallas-Fort Worth-Arlington, TX MSA</td>\n",
       "      <td>2018-11-29</td>\n",
       "      <td>surf</td>\n",
       "      <td>NaN</td>\n",
       "    </tr>\n",
       "    <tr>\n",
       "      <th>6</th>\n",
       "      <td>1006</td>\n",
       "      <td>Jesusa</td>\n",
       "      <td>Bradford</td>\n",
       "      <td>73</td>\n",
       "      <td>San Francisco-Oakland-Berkeley, CA MSA</td>\n",
       "      <td>2018-11-27</td>\n",
       "      <td>ultimate</td>\n",
       "      <td>2018-12-18</td>\n",
       "    </tr>\n",
       "    <tr>\n",
       "      <th>7</th>\n",
       "      <td>1007</td>\n",
       "      <td>Eusebio</td>\n",
       "      <td>Welch</td>\n",
       "      <td>42</td>\n",
       "      <td>Grand Rapids-Kentwood, MI MSA</td>\n",
       "      <td>2018-07-11</td>\n",
       "      <td>surf</td>\n",
       "      <td>NaN</td>\n",
       "    </tr>\n",
       "    <tr>\n",
       "      <th>8</th>\n",
       "      <td>1008</td>\n",
       "      <td>Emely</td>\n",
       "      <td>Hoffman</td>\n",
       "      <td>53</td>\n",
       "      <td>Orlando-Kissimmee-Sanford, FL MSA</td>\n",
       "      <td>2018-08-03</td>\n",
       "      <td>ultimate</td>\n",
       "      <td>NaN</td>\n",
       "    </tr>\n",
       "    <tr>\n",
       "      <th>9</th>\n",
       "      <td>1009</td>\n",
       "      <td>Gerry</td>\n",
       "      <td>Little</td>\n",
       "      <td>19</td>\n",
       "      <td>San Jose-Sunnyvale-Santa Clara, CA MSA</td>\n",
       "      <td>2018-04-22</td>\n",
       "      <td>surf</td>\n",
       "      <td>NaN</td>\n",
       "    </tr>\n",
       "  </tbody>\n",
       "</table>\n",
       "</div>"
      ],
      "text/plain": [
       "   user_id first_name  last_name  age                                    city  \\\n",
       "0     1000   Anamaria      Bauer   45   Atlanta-Sandy Springs-Roswell, GA MSA   \n",
       "1     1001     Mickey  Wilkerson   28         Seattle-Tacoma-Bellevue, WA MSA   \n",
       "2     1002     Carlee    Hoffman   36    Las Vegas-Henderson-Paradise, NV MSA   \n",
       "3     1003   Reynaldo    Jenkins   52                           Tulsa, OK MSA   \n",
       "4     1004    Leonila   Thompson   40         Seattle-Tacoma-Bellevue, WA MSA   \n",
       "5     1005      Livia    Shields   31     Dallas-Fort Worth-Arlington, TX MSA   \n",
       "6     1006     Jesusa   Bradford   73  San Francisco-Oakland-Berkeley, CA MSA   \n",
       "7     1007    Eusebio      Welch   42           Grand Rapids-Kentwood, MI MSA   \n",
       "8     1008      Emely    Hoffman   53       Orlando-Kissimmee-Sanford, FL MSA   \n",
       "9     1009      Gerry     Little   19  San Jose-Sunnyvale-Santa Clara, CA MSA   \n",
       "\n",
       "     reg_date      plan  churn_date  \n",
       "0  2018-12-24  ultimate         NaN  \n",
       "1  2018-08-13      surf         NaN  \n",
       "2  2018-10-21      surf         NaN  \n",
       "3  2018-01-28      surf         NaN  \n",
       "4  2018-05-23      surf         NaN  \n",
       "5  2018-11-29      surf         NaN  \n",
       "6  2018-11-27  ultimate  2018-12-18  \n",
       "7  2018-07-11      surf         NaN  \n",
       "8  2018-08-03  ultimate         NaN  \n",
       "9  2018-04-22      surf         NaN  "
      ]
     },
     "execution_count": 10,
     "metadata": {},
     "output_type": "execute_result"
    }
   ],
   "source": [
    "# Comprobar la tabla sin los valores ausentes reemplazados\n",
    "users.head(10)"
   ]
  },
  {
   "cell_type": "code",
   "execution_count": 11,
   "metadata": {},
   "outputs": [],
   "source": [
    "# Reemplazar ausentes en la columna churn_date con 0000-00-00\n",
    "fecha= '0000-00-00'\n",
    "users.fillna({'churn_date': fecha}, inplace=True)"
   ]
  },
  {
   "cell_type": "code",
   "execution_count": 12,
   "metadata": {},
   "outputs": [],
   "source": [
    "# cambiar tipos de datos\n",
    "users['reg_date'] = pd.to_datetime(users['reg_date'], format='%Y-%m-%d')\n",
    "#users['churn_date'] = pd.to_datetime(users['churn_date'], format='%Y-%m-%d')"
   ]
  },
  {
   "cell_type": "code",
   "execution_count": 13,
   "metadata": {},
   "outputs": [
    {
     "name": "stdout",
     "output_type": "stream",
     "text": [
      "<class 'pandas.core.frame.DataFrame'>\n",
      "RangeIndex: 500 entries, 0 to 499\n",
      "Data columns (total 8 columns):\n",
      " #   Column      Non-Null Count  Dtype         \n",
      "---  ------      --------------  -----         \n",
      " 0   user_id     500 non-null    int64         \n",
      " 1   first_name  500 non-null    object        \n",
      " 2   last_name   500 non-null    object        \n",
      " 3   age         500 non-null    int64         \n",
      " 4   city        500 non-null    object        \n",
      " 5   reg_date    500 non-null    datetime64[ns]\n",
      " 6   plan        500 non-null    object        \n",
      " 7   churn_date  500 non-null    object        \n",
      "dtypes: datetime64[ns](1), int64(2), object(5)\n",
      "memory usage: 31.4+ KB\n"
     ]
    }
   ],
   "source": [
    "# actualizar información general\n",
    "users.info()"
   ]
  },
  {
   "cell_type": "code",
   "execution_count": 14,
   "metadata": {},
   "outputs": [
    {
     "data": {
      "text/html": [
       "<div>\n",
       "<style scoped>\n",
       "    .dataframe tbody tr th:only-of-type {\n",
       "        vertical-align: middle;\n",
       "    }\n",
       "\n",
       "    .dataframe tbody tr th {\n",
       "        vertical-align: top;\n",
       "    }\n",
       "\n",
       "    .dataframe thead th {\n",
       "        text-align: right;\n",
       "    }\n",
       "</style>\n",
       "<table border=\"1\" class=\"dataframe\">\n",
       "  <thead>\n",
       "    <tr style=\"text-align: right;\">\n",
       "      <th></th>\n",
       "      <th>user_id</th>\n",
       "      <th>first_name</th>\n",
       "      <th>last_name</th>\n",
       "      <th>age</th>\n",
       "      <th>city</th>\n",
       "      <th>reg_date</th>\n",
       "      <th>plan</th>\n",
       "      <th>churn_date</th>\n",
       "    </tr>\n",
       "  </thead>\n",
       "  <tbody>\n",
       "    <tr>\n",
       "      <th>0</th>\n",
       "      <td>1000</td>\n",
       "      <td>Anamaria</td>\n",
       "      <td>Bauer</td>\n",
       "      <td>45</td>\n",
       "      <td>Atlanta-Sandy Springs-Roswell, GA MSA</td>\n",
       "      <td>2018-12-24</td>\n",
       "      <td>ultimate</td>\n",
       "      <td>0000-00-00</td>\n",
       "    </tr>\n",
       "    <tr>\n",
       "      <th>1</th>\n",
       "      <td>1001</td>\n",
       "      <td>Mickey</td>\n",
       "      <td>Wilkerson</td>\n",
       "      <td>28</td>\n",
       "      <td>Seattle-Tacoma-Bellevue, WA MSA</td>\n",
       "      <td>2018-08-13</td>\n",
       "      <td>surf</td>\n",
       "      <td>0000-00-00</td>\n",
       "    </tr>\n",
       "    <tr>\n",
       "      <th>2</th>\n",
       "      <td>1002</td>\n",
       "      <td>Carlee</td>\n",
       "      <td>Hoffman</td>\n",
       "      <td>36</td>\n",
       "      <td>Las Vegas-Henderson-Paradise, NV MSA</td>\n",
       "      <td>2018-10-21</td>\n",
       "      <td>surf</td>\n",
       "      <td>0000-00-00</td>\n",
       "    </tr>\n",
       "    <tr>\n",
       "      <th>3</th>\n",
       "      <td>1003</td>\n",
       "      <td>Reynaldo</td>\n",
       "      <td>Jenkins</td>\n",
       "      <td>52</td>\n",
       "      <td>Tulsa, OK MSA</td>\n",
       "      <td>2018-01-28</td>\n",
       "      <td>surf</td>\n",
       "      <td>0000-00-00</td>\n",
       "    </tr>\n",
       "    <tr>\n",
       "      <th>4</th>\n",
       "      <td>1004</td>\n",
       "      <td>Leonila</td>\n",
       "      <td>Thompson</td>\n",
       "      <td>40</td>\n",
       "      <td>Seattle-Tacoma-Bellevue, WA MSA</td>\n",
       "      <td>2018-05-23</td>\n",
       "      <td>surf</td>\n",
       "      <td>0000-00-00</td>\n",
       "    </tr>\n",
       "    <tr>\n",
       "      <th>5</th>\n",
       "      <td>1005</td>\n",
       "      <td>Livia</td>\n",
       "      <td>Shields</td>\n",
       "      <td>31</td>\n",
       "      <td>Dallas-Fort Worth-Arlington, TX MSA</td>\n",
       "      <td>2018-11-29</td>\n",
       "      <td>surf</td>\n",
       "      <td>0000-00-00</td>\n",
       "    </tr>\n",
       "    <tr>\n",
       "      <th>6</th>\n",
       "      <td>1006</td>\n",
       "      <td>Jesusa</td>\n",
       "      <td>Bradford</td>\n",
       "      <td>73</td>\n",
       "      <td>San Francisco-Oakland-Berkeley, CA MSA</td>\n",
       "      <td>2018-11-27</td>\n",
       "      <td>ultimate</td>\n",
       "      <td>2018-12-18</td>\n",
       "    </tr>\n",
       "    <tr>\n",
       "      <th>7</th>\n",
       "      <td>1007</td>\n",
       "      <td>Eusebio</td>\n",
       "      <td>Welch</td>\n",
       "      <td>42</td>\n",
       "      <td>Grand Rapids-Kentwood, MI MSA</td>\n",
       "      <td>2018-07-11</td>\n",
       "      <td>surf</td>\n",
       "      <td>0000-00-00</td>\n",
       "    </tr>\n",
       "    <tr>\n",
       "      <th>8</th>\n",
       "      <td>1008</td>\n",
       "      <td>Emely</td>\n",
       "      <td>Hoffman</td>\n",
       "      <td>53</td>\n",
       "      <td>Orlando-Kissimmee-Sanford, FL MSA</td>\n",
       "      <td>2018-08-03</td>\n",
       "      <td>ultimate</td>\n",
       "      <td>0000-00-00</td>\n",
       "    </tr>\n",
       "    <tr>\n",
       "      <th>9</th>\n",
       "      <td>1009</td>\n",
       "      <td>Gerry</td>\n",
       "      <td>Little</td>\n",
       "      <td>19</td>\n",
       "      <td>San Jose-Sunnyvale-Santa Clara, CA MSA</td>\n",
       "      <td>2018-04-22</td>\n",
       "      <td>surf</td>\n",
       "      <td>0000-00-00</td>\n",
       "    </tr>\n",
       "  </tbody>\n",
       "</table>\n",
       "</div>"
      ],
      "text/plain": [
       "   user_id first_name  last_name  age                                    city  \\\n",
       "0     1000   Anamaria      Bauer   45   Atlanta-Sandy Springs-Roswell, GA MSA   \n",
       "1     1001     Mickey  Wilkerson   28         Seattle-Tacoma-Bellevue, WA MSA   \n",
       "2     1002     Carlee    Hoffman   36    Las Vegas-Henderson-Paradise, NV MSA   \n",
       "3     1003   Reynaldo    Jenkins   52                           Tulsa, OK MSA   \n",
       "4     1004    Leonila   Thompson   40         Seattle-Tacoma-Bellevue, WA MSA   \n",
       "5     1005      Livia    Shields   31     Dallas-Fort Worth-Arlington, TX MSA   \n",
       "6     1006     Jesusa   Bradford   73  San Francisco-Oakland-Berkeley, CA MSA   \n",
       "7     1007    Eusebio      Welch   42           Grand Rapids-Kentwood, MI MSA   \n",
       "8     1008      Emely    Hoffman   53       Orlando-Kissimmee-Sanford, FL MSA   \n",
       "9     1009      Gerry     Little   19  San Jose-Sunnyvale-Santa Clara, CA MSA   \n",
       "\n",
       "    reg_date      plan  churn_date  \n",
       "0 2018-12-24  ultimate  0000-00-00  \n",
       "1 2018-08-13      surf  0000-00-00  \n",
       "2 2018-10-21      surf  0000-00-00  \n",
       "3 2018-01-28      surf  0000-00-00  \n",
       "4 2018-05-23      surf  0000-00-00  \n",
       "5 2018-11-29      surf  0000-00-00  \n",
       "6 2018-11-27  ultimate  2018-12-18  \n",
       "7 2018-07-11      surf  0000-00-00  \n",
       "8 2018-08-03  ultimate  0000-00-00  \n",
       "9 2018-04-22      surf  0000-00-00  "
      ]
     },
     "execution_count": 14,
     "metadata": {},
     "output_type": "execute_result"
    }
   ],
   "source": [
    "# comprobar la tabla\n",
    "users.head(10)"
   ]
  },
  {
   "cell_type": "markdown",
   "metadata": {},
   "source": [
    "### Enriquecer datos <a id='enriquecer_usuarios'></a>"
   ]
  },
  {
   "cell_type": "code",
   "execution_count": 15,
   "metadata": {},
   "outputs": [
    {
     "data": {
      "text/html": [
       "<div>\n",
       "<style scoped>\n",
       "    .dataframe tbody tr th:only-of-type {\n",
       "        vertical-align: middle;\n",
       "    }\n",
       "\n",
       "    .dataframe tbody tr th {\n",
       "        vertical-align: top;\n",
       "    }\n",
       "\n",
       "    .dataframe thead th {\n",
       "        text-align: right;\n",
       "    }\n",
       "</style>\n",
       "<table border=\"1\" class=\"dataframe\">\n",
       "  <thead>\n",
       "    <tr style=\"text-align: right;\">\n",
       "      <th></th>\n",
       "      <th>user_id</th>\n",
       "      <th>first_name</th>\n",
       "      <th>last_name</th>\n",
       "      <th>age</th>\n",
       "      <th>city</th>\n",
       "      <th>reg_date</th>\n",
       "      <th>plan</th>\n",
       "      <th>churn_date</th>\n",
       "      <th>situation</th>\n",
       "    </tr>\n",
       "  </thead>\n",
       "  <tbody>\n",
       "    <tr>\n",
       "      <th>0</th>\n",
       "      <td>1000</td>\n",
       "      <td>Anamaria</td>\n",
       "      <td>Bauer</td>\n",
       "      <td>45</td>\n",
       "      <td>Atlanta-Sandy Springs-Roswell, GA MSA</td>\n",
       "      <td>2018-12-24</td>\n",
       "      <td>ultimate</td>\n",
       "      <td>0000-00-00</td>\n",
       "      <td>Inactivo</td>\n",
       "    </tr>\n",
       "    <tr>\n",
       "      <th>1</th>\n",
       "      <td>1001</td>\n",
       "      <td>Mickey</td>\n",
       "      <td>Wilkerson</td>\n",
       "      <td>28</td>\n",
       "      <td>Seattle-Tacoma-Bellevue, WA MSA</td>\n",
       "      <td>2018-08-13</td>\n",
       "      <td>surf</td>\n",
       "      <td>0000-00-00</td>\n",
       "      <td>Inactivo</td>\n",
       "    </tr>\n",
       "    <tr>\n",
       "      <th>2</th>\n",
       "      <td>1002</td>\n",
       "      <td>Carlee</td>\n",
       "      <td>Hoffman</td>\n",
       "      <td>36</td>\n",
       "      <td>Las Vegas-Henderson-Paradise, NV MSA</td>\n",
       "      <td>2018-10-21</td>\n",
       "      <td>surf</td>\n",
       "      <td>0000-00-00</td>\n",
       "      <td>Inactivo</td>\n",
       "    </tr>\n",
       "    <tr>\n",
       "      <th>3</th>\n",
       "      <td>1003</td>\n",
       "      <td>Reynaldo</td>\n",
       "      <td>Jenkins</td>\n",
       "      <td>52</td>\n",
       "      <td>Tulsa, OK MSA</td>\n",
       "      <td>2018-01-28</td>\n",
       "      <td>surf</td>\n",
       "      <td>0000-00-00</td>\n",
       "      <td>Inactivo</td>\n",
       "    </tr>\n",
       "    <tr>\n",
       "      <th>4</th>\n",
       "      <td>1004</td>\n",
       "      <td>Leonila</td>\n",
       "      <td>Thompson</td>\n",
       "      <td>40</td>\n",
       "      <td>Seattle-Tacoma-Bellevue, WA MSA</td>\n",
       "      <td>2018-05-23</td>\n",
       "      <td>surf</td>\n",
       "      <td>0000-00-00</td>\n",
       "      <td>Inactivo</td>\n",
       "    </tr>\n",
       "    <tr>\n",
       "      <th>5</th>\n",
       "      <td>1005</td>\n",
       "      <td>Livia</td>\n",
       "      <td>Shields</td>\n",
       "      <td>31</td>\n",
       "      <td>Dallas-Fort Worth-Arlington, TX MSA</td>\n",
       "      <td>2018-11-29</td>\n",
       "      <td>surf</td>\n",
       "      <td>0000-00-00</td>\n",
       "      <td>Inactivo</td>\n",
       "    </tr>\n",
       "    <tr>\n",
       "      <th>6</th>\n",
       "      <td>1006</td>\n",
       "      <td>Jesusa</td>\n",
       "      <td>Bradford</td>\n",
       "      <td>73</td>\n",
       "      <td>San Francisco-Oakland-Berkeley, CA MSA</td>\n",
       "      <td>2018-11-27</td>\n",
       "      <td>ultimate</td>\n",
       "      <td>2018-12-18</td>\n",
       "      <td>Activo</td>\n",
       "    </tr>\n",
       "    <tr>\n",
       "      <th>7</th>\n",
       "      <td>1007</td>\n",
       "      <td>Eusebio</td>\n",
       "      <td>Welch</td>\n",
       "      <td>42</td>\n",
       "      <td>Grand Rapids-Kentwood, MI MSA</td>\n",
       "      <td>2018-07-11</td>\n",
       "      <td>surf</td>\n",
       "      <td>0000-00-00</td>\n",
       "      <td>Inactivo</td>\n",
       "    </tr>\n",
       "    <tr>\n",
       "      <th>8</th>\n",
       "      <td>1008</td>\n",
       "      <td>Emely</td>\n",
       "      <td>Hoffman</td>\n",
       "      <td>53</td>\n",
       "      <td>Orlando-Kissimmee-Sanford, FL MSA</td>\n",
       "      <td>2018-08-03</td>\n",
       "      <td>ultimate</td>\n",
       "      <td>0000-00-00</td>\n",
       "      <td>Inactivo</td>\n",
       "    </tr>\n",
       "    <tr>\n",
       "      <th>9</th>\n",
       "      <td>1009</td>\n",
       "      <td>Gerry</td>\n",
       "      <td>Little</td>\n",
       "      <td>19</td>\n",
       "      <td>San Jose-Sunnyvale-Santa Clara, CA MSA</td>\n",
       "      <td>2018-04-22</td>\n",
       "      <td>surf</td>\n",
       "      <td>0000-00-00</td>\n",
       "      <td>Inactivo</td>\n",
       "    </tr>\n",
       "  </tbody>\n",
       "</table>\n",
       "</div>"
      ],
      "text/plain": [
       "   user_id first_name  last_name  age                                    city  \\\n",
       "0     1000   Anamaria      Bauer   45   Atlanta-Sandy Springs-Roswell, GA MSA   \n",
       "1     1001     Mickey  Wilkerson   28         Seattle-Tacoma-Bellevue, WA MSA   \n",
       "2     1002     Carlee    Hoffman   36    Las Vegas-Henderson-Paradise, NV MSA   \n",
       "3     1003   Reynaldo    Jenkins   52                           Tulsa, OK MSA   \n",
       "4     1004    Leonila   Thompson   40         Seattle-Tacoma-Bellevue, WA MSA   \n",
       "5     1005      Livia    Shields   31     Dallas-Fort Worth-Arlington, TX MSA   \n",
       "6     1006     Jesusa   Bradford   73  San Francisco-Oakland-Berkeley, CA MSA   \n",
       "7     1007    Eusebio      Welch   42           Grand Rapids-Kentwood, MI MSA   \n",
       "8     1008      Emely    Hoffman   53       Orlando-Kissimmee-Sanford, FL MSA   \n",
       "9     1009      Gerry     Little   19  San Jose-Sunnyvale-Santa Clara, CA MSA   \n",
       "\n",
       "    reg_date      plan  churn_date situation  \n",
       "0 2018-12-24  ultimate  0000-00-00  Inactivo  \n",
       "1 2018-08-13      surf  0000-00-00  Inactivo  \n",
       "2 2018-10-21      surf  0000-00-00  Inactivo  \n",
       "3 2018-01-28      surf  0000-00-00  Inactivo  \n",
       "4 2018-05-23      surf  0000-00-00  Inactivo  \n",
       "5 2018-11-29      surf  0000-00-00  Inactivo  \n",
       "6 2018-11-27  ultimate  2018-12-18    Activo  \n",
       "7 2018-07-11      surf  0000-00-00  Inactivo  \n",
       "8 2018-08-03  ultimate  0000-00-00  Inactivo  \n",
       "9 2018-04-22      surf  0000-00-00  Inactivo  "
      ]
     },
     "execution_count": 15,
     "metadata": {},
     "output_type": "execute_result"
    }
   ],
   "source": [
    "# Agregar columna con la situación actual del usuario \n",
    "\n",
    "users['situation']= users[\"churn_date\"].apply(lambda x: 'Inactivo' if x == fecha else 'Activo')\n",
    "users.head(10)"
   ]
  },
  {
   "cell_type": "markdown",
   "metadata": {},
   "source": [
    "## Llamadas <a id='llamadas'></a>"
   ]
  },
  {
   "cell_type": "code",
   "execution_count": 16,
   "metadata": {},
   "outputs": [
    {
     "name": "stdout",
     "output_type": "stream",
     "text": [
      "<class 'pandas.core.frame.DataFrame'>\n",
      "RangeIndex: 137735 entries, 0 to 137734\n",
      "Data columns (total 4 columns):\n",
      " #   Column     Non-Null Count   Dtype  \n",
      "---  ------     --------------   -----  \n",
      " 0   id         137735 non-null  object \n",
      " 1   user_id    137735 non-null  int64  \n",
      " 2   call_date  137735 non-null  object \n",
      " 3   duration   137735 non-null  float64\n",
      "dtypes: float64(1), int64(1), object(2)\n",
      "memory usage: 4.2+ MB\n"
     ]
    }
   ],
   "source": [
    "# Imprime la información/resumen general sobre el DataFrame de las llamadas\n",
    "calls.info()"
   ]
  },
  {
   "cell_type": "code",
   "execution_count": 17,
   "metadata": {},
   "outputs": [
    {
     "data": {
      "text/html": [
       "<div>\n",
       "<style scoped>\n",
       "    .dataframe tbody tr th:only-of-type {\n",
       "        vertical-align: middle;\n",
       "    }\n",
       "\n",
       "    .dataframe tbody tr th {\n",
       "        vertical-align: top;\n",
       "    }\n",
       "\n",
       "    .dataframe thead th {\n",
       "        text-align: right;\n",
       "    }\n",
       "</style>\n",
       "<table border=\"1\" class=\"dataframe\">\n",
       "  <thead>\n",
       "    <tr style=\"text-align: right;\">\n",
       "      <th></th>\n",
       "      <th>id</th>\n",
       "      <th>user_id</th>\n",
       "      <th>call_date</th>\n",
       "      <th>duration</th>\n",
       "    </tr>\n",
       "  </thead>\n",
       "  <tbody>\n",
       "    <tr>\n",
       "      <th>0</th>\n",
       "      <td>1000_93</td>\n",
       "      <td>1000</td>\n",
       "      <td>2018-12-27</td>\n",
       "      <td>8.52</td>\n",
       "    </tr>\n",
       "    <tr>\n",
       "      <th>1</th>\n",
       "      <td>1000_145</td>\n",
       "      <td>1000</td>\n",
       "      <td>2018-12-27</td>\n",
       "      <td>13.66</td>\n",
       "    </tr>\n",
       "    <tr>\n",
       "      <th>2</th>\n",
       "      <td>1000_247</td>\n",
       "      <td>1000</td>\n",
       "      <td>2018-12-27</td>\n",
       "      <td>14.48</td>\n",
       "    </tr>\n",
       "    <tr>\n",
       "      <th>3</th>\n",
       "      <td>1000_309</td>\n",
       "      <td>1000</td>\n",
       "      <td>2018-12-28</td>\n",
       "      <td>5.76</td>\n",
       "    </tr>\n",
       "    <tr>\n",
       "      <th>4</th>\n",
       "      <td>1000_380</td>\n",
       "      <td>1000</td>\n",
       "      <td>2018-12-30</td>\n",
       "      <td>4.22</td>\n",
       "    </tr>\n",
       "  </tbody>\n",
       "</table>\n",
       "</div>"
      ],
      "text/plain": [
       "         id  user_id   call_date  duration\n",
       "0   1000_93     1000  2018-12-27      8.52\n",
       "1  1000_145     1000  2018-12-27     13.66\n",
       "2  1000_247     1000  2018-12-27     14.48\n",
       "3  1000_309     1000  2018-12-28      5.76\n",
       "4  1000_380     1000  2018-12-30      4.22"
      ]
     },
     "execution_count": 17,
     "metadata": {},
     "output_type": "execute_result"
    }
   ],
   "source": [
    "# Imprime una muestra de datos para llamadas\n",
    "calls.head()"
   ]
  },
  {
   "cell_type": "markdown",
   "metadata": {},
   "source": [
    "El dataset users contiene los siguientes campos:\n",
    "\n",
    "- `id` — identificador único de la llamada\n",
    "- `user_id` —  identificador del usuario que realiza la llamada\n",
    "- `call_date` — fecha de la llamada\n",
    "- `duration` — duración de la llamada (en minutos)\n",
    "\n",
    "Tenemos un conjunto de datos conformado por 4 columnas, en las columnas call_date y duration se necesita ajustar su tipo de dato, tiene 137735 filas y no se encontraron valores ausentes."
   ]
  },
  {
   "cell_type": "markdown",
   "metadata": {},
   "source": [
    " "
   ]
  },
  {
   "cell_type": "markdown",
   "metadata": {},
   "source": [
    "### Conclusiones y siguientes pasos <a id='conclusiones_llamadas'></a>"
   ]
  },
  {
   "cell_type": "markdown",
   "metadata": {},
   "source": [
    "El dataset no presenta mayores problemas, se procede a cambiar call_date al tipo Datetime y duration se va a redondear ya que la compañía siempre redondea los segundos a minutos y se va a cambiar al tipo de dato a int, se agrega la columna month para enriquecer los datos y utilizarla para un posterior análisis.   "
   ]
  },
  {
   "cell_type": "markdown",
   "metadata": {},
   "source": [
    "### Corregir datos <a id='corregir_llamadas'></a>"
   ]
  },
  {
   "cell_type": "code",
   "execution_count": 18,
   "metadata": {},
   "outputs": [],
   "source": [
    "# cambiar tipos de datos\n",
    "calls['duration'] = np.ceil(calls['duration'])\n",
    "calls['duration'] = calls['duration'].astype('int')\n",
    "calls['call_date'] = pd.to_datetime(calls['call_date'], format='%Y-%m-%d')"
   ]
  },
  {
   "cell_type": "code",
   "execution_count": 19,
   "metadata": {},
   "outputs": [
    {
     "name": "stdout",
     "output_type": "stream",
     "text": [
      "<class 'pandas.core.frame.DataFrame'>\n",
      "RangeIndex: 137735 entries, 0 to 137734\n",
      "Data columns (total 4 columns):\n",
      " #   Column     Non-Null Count   Dtype         \n",
      "---  ------     --------------   -----         \n",
      " 0   id         137735 non-null  object        \n",
      " 1   user_id    137735 non-null  int64         \n",
      " 2   call_date  137735 non-null  datetime64[ns]\n",
      " 3   duration   137735 non-null  int64         \n",
      "dtypes: datetime64[ns](1), int64(2), object(1)\n",
      "memory usage: 4.2+ MB\n"
     ]
    }
   ],
   "source": [
    "# actualizar información general\n",
    "calls.info()"
   ]
  },
  {
   "cell_type": "markdown",
   "metadata": {},
   "source": [
    "### Enriquecer datos <a id='enriquecer_llamadas'></a>"
   ]
  },
  {
   "cell_type": "code",
   "execution_count": 20,
   "metadata": {},
   "outputs": [],
   "source": [
    "# Agrega columna mounth_calls para saber el mes en el que se realizó la llamada v\n",
    "calls['month']= pd.DatetimeIndex(calls['call_date']).month"
   ]
  },
  {
   "cell_type": "code",
   "execution_count": 21,
   "metadata": {},
   "outputs": [
    {
     "data": {
      "text/html": [
       "<div>\n",
       "<style scoped>\n",
       "    .dataframe tbody tr th:only-of-type {\n",
       "        vertical-align: middle;\n",
       "    }\n",
       "\n",
       "    .dataframe tbody tr th {\n",
       "        vertical-align: top;\n",
       "    }\n",
       "\n",
       "    .dataframe thead th {\n",
       "        text-align: right;\n",
       "    }\n",
       "</style>\n",
       "<table border=\"1\" class=\"dataframe\">\n",
       "  <thead>\n",
       "    <tr style=\"text-align: right;\">\n",
       "      <th></th>\n",
       "      <th>id</th>\n",
       "      <th>user_id</th>\n",
       "      <th>call_date</th>\n",
       "      <th>duration</th>\n",
       "      <th>month</th>\n",
       "    </tr>\n",
       "  </thead>\n",
       "  <tbody>\n",
       "    <tr>\n",
       "      <th>0</th>\n",
       "      <td>1000_93</td>\n",
       "      <td>1000</td>\n",
       "      <td>2018-12-27</td>\n",
       "      <td>9</td>\n",
       "      <td>12</td>\n",
       "    </tr>\n",
       "    <tr>\n",
       "      <th>1</th>\n",
       "      <td>1000_145</td>\n",
       "      <td>1000</td>\n",
       "      <td>2018-12-27</td>\n",
       "      <td>14</td>\n",
       "      <td>12</td>\n",
       "    </tr>\n",
       "    <tr>\n",
       "      <th>2</th>\n",
       "      <td>1000_247</td>\n",
       "      <td>1000</td>\n",
       "      <td>2018-12-27</td>\n",
       "      <td>15</td>\n",
       "      <td>12</td>\n",
       "    </tr>\n",
       "    <tr>\n",
       "      <th>3</th>\n",
       "      <td>1000_309</td>\n",
       "      <td>1000</td>\n",
       "      <td>2018-12-28</td>\n",
       "      <td>6</td>\n",
       "      <td>12</td>\n",
       "    </tr>\n",
       "    <tr>\n",
       "      <th>4</th>\n",
       "      <td>1000_380</td>\n",
       "      <td>1000</td>\n",
       "      <td>2018-12-30</td>\n",
       "      <td>5</td>\n",
       "      <td>12</td>\n",
       "    </tr>\n",
       "  </tbody>\n",
       "</table>\n",
       "</div>"
      ],
      "text/plain": [
       "         id  user_id  call_date  duration  month\n",
       "0   1000_93     1000 2018-12-27         9     12\n",
       "1  1000_145     1000 2018-12-27        14     12\n",
       "2  1000_247     1000 2018-12-27        15     12\n",
       "3  1000_309     1000 2018-12-28         6     12\n",
       "4  1000_380     1000 2018-12-30         5     12"
      ]
     },
     "execution_count": 21,
     "metadata": {},
     "output_type": "execute_result"
    }
   ],
   "source": [
    "# comprobar la tabla\n",
    "calls.head()"
   ]
  },
  {
   "cell_type": "markdown",
   "metadata": {},
   "source": [
    "## Mensajes <a id='mensajes'></a>"
   ]
  },
  {
   "cell_type": "code",
   "execution_count": 22,
   "metadata": {},
   "outputs": [
    {
     "name": "stdout",
     "output_type": "stream",
     "text": [
      "<class 'pandas.core.frame.DataFrame'>\n",
      "RangeIndex: 76051 entries, 0 to 76050\n",
      "Data columns (total 3 columns):\n",
      " #   Column        Non-Null Count  Dtype \n",
      "---  ------        --------------  ----- \n",
      " 0   id            76051 non-null  object\n",
      " 1   user_id       76051 non-null  int64 \n",
      " 2   message_date  76051 non-null  object\n",
      "dtypes: int64(1), object(2)\n",
      "memory usage: 1.7+ MB\n"
     ]
    }
   ],
   "source": [
    "# Imprime la información/resumen general sobre el DataFrame de los mensajes\n",
    "messages.info()"
   ]
  },
  {
   "cell_type": "code",
   "execution_count": 23,
   "metadata": {},
   "outputs": [
    {
     "data": {
      "text/html": [
       "<div>\n",
       "<style scoped>\n",
       "    .dataframe tbody tr th:only-of-type {\n",
       "        vertical-align: middle;\n",
       "    }\n",
       "\n",
       "    .dataframe tbody tr th {\n",
       "        vertical-align: top;\n",
       "    }\n",
       "\n",
       "    .dataframe thead th {\n",
       "        text-align: right;\n",
       "    }\n",
       "</style>\n",
       "<table border=\"1\" class=\"dataframe\">\n",
       "  <thead>\n",
       "    <tr style=\"text-align: right;\">\n",
       "      <th></th>\n",
       "      <th>id</th>\n",
       "      <th>user_id</th>\n",
       "      <th>message_date</th>\n",
       "    </tr>\n",
       "  </thead>\n",
       "  <tbody>\n",
       "    <tr>\n",
       "      <th>0</th>\n",
       "      <td>1000_125</td>\n",
       "      <td>1000</td>\n",
       "      <td>2018-12-27</td>\n",
       "    </tr>\n",
       "    <tr>\n",
       "      <th>1</th>\n",
       "      <td>1000_160</td>\n",
       "      <td>1000</td>\n",
       "      <td>2018-12-31</td>\n",
       "    </tr>\n",
       "    <tr>\n",
       "      <th>2</th>\n",
       "      <td>1000_223</td>\n",
       "      <td>1000</td>\n",
       "      <td>2018-12-31</td>\n",
       "    </tr>\n",
       "    <tr>\n",
       "      <th>3</th>\n",
       "      <td>1000_251</td>\n",
       "      <td>1000</td>\n",
       "      <td>2018-12-27</td>\n",
       "    </tr>\n",
       "    <tr>\n",
       "      <th>4</th>\n",
       "      <td>1000_255</td>\n",
       "      <td>1000</td>\n",
       "      <td>2018-12-26</td>\n",
       "    </tr>\n",
       "  </tbody>\n",
       "</table>\n",
       "</div>"
      ],
      "text/plain": [
       "         id  user_id message_date\n",
       "0  1000_125     1000   2018-12-27\n",
       "1  1000_160     1000   2018-12-31\n",
       "2  1000_223     1000   2018-12-31\n",
       "3  1000_251     1000   2018-12-27\n",
       "4  1000_255     1000   2018-12-26"
      ]
     },
     "execution_count": 23,
     "metadata": {},
     "output_type": "execute_result"
    }
   ],
   "source": [
    "# Imprime una muestra de datos para los mensajes\n",
    "messages.head()"
   ]
  },
  {
   "cell_type": "markdown",
   "metadata": {},
   "source": [
    "El dataset messages contiene los siguientes campos:\n",
    "\n",
    "- `id` — identificador único del SMS\n",
    "- `user_id` —  el identificador del usuario que manda el SMS\n",
    "- `message_date` — fecha del SMS\n",
    "\n",
    "Tenemos un conjunto de datos conformado por 3 columnas, en la columna message_date se necesita ajustar su tipo de dato, tiene 76051 filas y no se encontraron valores ausentes."
   ]
  },
  {
   "cell_type": "markdown",
   "metadata": {},
   "source": [
    " ### Conclusiones y siguientes pasos <a id='conclusiones_mensajes'></a>"
   ]
  },
  {
   "cell_type": "markdown",
   "metadata": {},
   "source": [
    "El dataset no presenta mayores problemas, se procede a cambiar message_date al tipo Datetime y se agrega la columna month para enriquecer los datos y utilizarla para un posterior análisis.    "
   ]
  },
  {
   "cell_type": "markdown",
   "metadata": {},
   "source": [
    "### Corregir datos <a id='corregir_mensajes'></a>"
   ]
  },
  {
   "cell_type": "code",
   "execution_count": 24,
   "metadata": {},
   "outputs": [],
   "source": [
    "# cambiar tipos de datos\n",
    "messages['message_date'] = pd.to_datetime(messages['message_date'], format='%Y-%m-%d')"
   ]
  },
  {
   "cell_type": "code",
   "execution_count": 25,
   "metadata": {},
   "outputs": [
    {
     "name": "stdout",
     "output_type": "stream",
     "text": [
      "<class 'pandas.core.frame.DataFrame'>\n",
      "RangeIndex: 76051 entries, 0 to 76050\n",
      "Data columns (total 3 columns):\n",
      " #   Column        Non-Null Count  Dtype         \n",
      "---  ------        --------------  -----         \n",
      " 0   id            76051 non-null  object        \n",
      " 1   user_id       76051 non-null  int64         \n",
      " 2   message_date  76051 non-null  datetime64[ns]\n",
      "dtypes: datetime64[ns](1), int64(1), object(1)\n",
      "memory usage: 1.7+ MB\n"
     ]
    }
   ],
   "source": [
    "# actualizar información general\n",
    "messages.info()"
   ]
  },
  {
   "cell_type": "markdown",
   "metadata": {},
   "source": [
    "### Enriquecer datos <a id='enriquecer_mensajes'></a>"
   ]
  },
  {
   "cell_type": "code",
   "execution_count": 26,
   "metadata": {},
   "outputs": [],
   "source": [
    "# Agrega columna mounth_calls para saber el mes en el que se realizó la llamada v\n",
    "messages['month']= pd.DatetimeIndex(messages['message_date']).month"
   ]
  },
  {
   "cell_type": "code",
   "execution_count": 27,
   "metadata": {},
   "outputs": [
    {
     "data": {
      "text/html": [
       "<div>\n",
       "<style scoped>\n",
       "    .dataframe tbody tr th:only-of-type {\n",
       "        vertical-align: middle;\n",
       "    }\n",
       "\n",
       "    .dataframe tbody tr th {\n",
       "        vertical-align: top;\n",
       "    }\n",
       "\n",
       "    .dataframe thead th {\n",
       "        text-align: right;\n",
       "    }\n",
       "</style>\n",
       "<table border=\"1\" class=\"dataframe\">\n",
       "  <thead>\n",
       "    <tr style=\"text-align: right;\">\n",
       "      <th></th>\n",
       "      <th>id</th>\n",
       "      <th>user_id</th>\n",
       "      <th>message_date</th>\n",
       "      <th>month</th>\n",
       "    </tr>\n",
       "  </thead>\n",
       "  <tbody>\n",
       "    <tr>\n",
       "      <th>0</th>\n",
       "      <td>1000_125</td>\n",
       "      <td>1000</td>\n",
       "      <td>2018-12-27</td>\n",
       "      <td>12</td>\n",
       "    </tr>\n",
       "    <tr>\n",
       "      <th>1</th>\n",
       "      <td>1000_160</td>\n",
       "      <td>1000</td>\n",
       "      <td>2018-12-31</td>\n",
       "      <td>12</td>\n",
       "    </tr>\n",
       "    <tr>\n",
       "      <th>2</th>\n",
       "      <td>1000_223</td>\n",
       "      <td>1000</td>\n",
       "      <td>2018-12-31</td>\n",
       "      <td>12</td>\n",
       "    </tr>\n",
       "    <tr>\n",
       "      <th>3</th>\n",
       "      <td>1000_251</td>\n",
       "      <td>1000</td>\n",
       "      <td>2018-12-27</td>\n",
       "      <td>12</td>\n",
       "    </tr>\n",
       "    <tr>\n",
       "      <th>4</th>\n",
       "      <td>1000_255</td>\n",
       "      <td>1000</td>\n",
       "      <td>2018-12-26</td>\n",
       "      <td>12</td>\n",
       "    </tr>\n",
       "  </tbody>\n",
       "</table>\n",
       "</div>"
      ],
      "text/plain": [
       "         id  user_id message_date  month\n",
       "0  1000_125     1000   2018-12-27     12\n",
       "1  1000_160     1000   2018-12-31     12\n",
       "2  1000_223     1000   2018-12-31     12\n",
       "3  1000_251     1000   2018-12-27     12\n",
       "4  1000_255     1000   2018-12-26     12"
      ]
     },
     "execution_count": 27,
     "metadata": {},
     "output_type": "execute_result"
    }
   ],
   "source": [
    "# comprobar la tabla\n",
    "messages.head()"
   ]
  },
  {
   "cell_type": "markdown",
   "metadata": {},
   "source": [
    "## Internet <a id='internet'></a>"
   ]
  },
  {
   "cell_type": "code",
   "execution_count": 28,
   "metadata": {},
   "outputs": [
    {
     "name": "stdout",
     "output_type": "stream",
     "text": [
      "<class 'pandas.core.frame.DataFrame'>\n",
      "RangeIndex: 104825 entries, 0 to 104824\n",
      "Data columns (total 4 columns):\n",
      " #   Column        Non-Null Count   Dtype  \n",
      "---  ------        --------------   -----  \n",
      " 0   id            104825 non-null  object \n",
      " 1   user_id       104825 non-null  int64  \n",
      " 2   session_date  104825 non-null  object \n",
      " 3   mb_used       104825 non-null  float64\n",
      "dtypes: float64(1), int64(1), object(2)\n",
      "memory usage: 3.2+ MB\n"
     ]
    }
   ],
   "source": [
    "# Imprime la información/resumen general sobre el DataFrame de los mensajes\n",
    "internet.info()"
   ]
  },
  {
   "cell_type": "code",
   "execution_count": 29,
   "metadata": {},
   "outputs": [
    {
     "data": {
      "text/html": [
       "<div>\n",
       "<style scoped>\n",
       "    .dataframe tbody tr th:only-of-type {\n",
       "        vertical-align: middle;\n",
       "    }\n",
       "\n",
       "    .dataframe tbody tr th {\n",
       "        vertical-align: top;\n",
       "    }\n",
       "\n",
       "    .dataframe thead th {\n",
       "        text-align: right;\n",
       "    }\n",
       "</style>\n",
       "<table border=\"1\" class=\"dataframe\">\n",
       "  <thead>\n",
       "    <tr style=\"text-align: right;\">\n",
       "      <th></th>\n",
       "      <th>id</th>\n",
       "      <th>user_id</th>\n",
       "      <th>session_date</th>\n",
       "      <th>mb_used</th>\n",
       "    </tr>\n",
       "  </thead>\n",
       "  <tbody>\n",
       "    <tr>\n",
       "      <th>0</th>\n",
       "      <td>1000_13</td>\n",
       "      <td>1000</td>\n",
       "      <td>2018-12-29</td>\n",
       "      <td>89.86</td>\n",
       "    </tr>\n",
       "    <tr>\n",
       "      <th>1</th>\n",
       "      <td>1000_204</td>\n",
       "      <td>1000</td>\n",
       "      <td>2018-12-31</td>\n",
       "      <td>0.00</td>\n",
       "    </tr>\n",
       "    <tr>\n",
       "      <th>2</th>\n",
       "      <td>1000_379</td>\n",
       "      <td>1000</td>\n",
       "      <td>2018-12-28</td>\n",
       "      <td>660.40</td>\n",
       "    </tr>\n",
       "    <tr>\n",
       "      <th>3</th>\n",
       "      <td>1000_413</td>\n",
       "      <td>1000</td>\n",
       "      <td>2018-12-26</td>\n",
       "      <td>270.99</td>\n",
       "    </tr>\n",
       "    <tr>\n",
       "      <th>4</th>\n",
       "      <td>1000_442</td>\n",
       "      <td>1000</td>\n",
       "      <td>2018-12-27</td>\n",
       "      <td>880.22</td>\n",
       "    </tr>\n",
       "  </tbody>\n",
       "</table>\n",
       "</div>"
      ],
      "text/plain": [
       "         id  user_id session_date  mb_used\n",
       "0   1000_13     1000   2018-12-29    89.86\n",
       "1  1000_204     1000   2018-12-31     0.00\n",
       "2  1000_379     1000   2018-12-28   660.40\n",
       "3  1000_413     1000   2018-12-26   270.99\n",
       "4  1000_442     1000   2018-12-27   880.22"
      ]
     },
     "execution_count": 29,
     "metadata": {},
     "output_type": "execute_result"
    }
   ],
   "source": [
    "# Imprime una muestra de datos para el tráfico de internet\n",
    "internet.head()"
   ]
  },
  {
   "cell_type": "markdown",
   "metadata": {},
   "source": [
    "El dataset internet contiene los siguientes campos:\n",
    "\n",
    "- `id` — identificador único de la sesión\n",
    "- `user_id` —  identificador del usuario\n",
    "- `session_date` — fecha de la sesión web\n",
    "- `mb_used` —  el volumen de datos gastados durante la sesión (en megabytes)\n",
    "\n",
    "Tenemos un conjunto de datos conformado por 4 columnas, en la columna session_date se necesita ajustar su tipo de dato, tiene 104825 filas y no se encontraron valores ausentes."
   ]
  },
  {
   "cell_type": "markdown",
   "metadata": {},
   "source": [
    " "
   ]
  },
  {
   "cell_type": "markdown",
   "metadata": {},
   "source": [
    " ### Conclusiones y siguientes pasos <a id='conclusiones_internet'></a>"
   ]
  },
  {
   "cell_type": "markdown",
   "metadata": {},
   "source": [
    "El dataset no presenta mayores problemas, se procede a cambiar session_date al tipo Datetime y se agrega la columna month para enriquecer los datos y utilizarla para un posterior análisis."
   ]
  },
  {
   "cell_type": "markdown",
   "metadata": {},
   "source": [
    "### Corregir datos <a id='corregir_internet'></a>"
   ]
  },
  {
   "cell_type": "code",
   "execution_count": 30,
   "metadata": {},
   "outputs": [],
   "source": [
    "# cambiar tipos de datos\n",
    "internet['session_date'] = pd.to_datetime(internet['session_date'], format='%Y-%m-%d')"
   ]
  },
  {
   "cell_type": "code",
   "execution_count": 31,
   "metadata": {},
   "outputs": [
    {
     "name": "stdout",
     "output_type": "stream",
     "text": [
      "<class 'pandas.core.frame.DataFrame'>\n",
      "RangeIndex: 104825 entries, 0 to 104824\n",
      "Data columns (total 4 columns):\n",
      " #   Column        Non-Null Count   Dtype         \n",
      "---  ------        --------------   -----         \n",
      " 0   id            104825 non-null  object        \n",
      " 1   user_id       104825 non-null  int64         \n",
      " 2   session_date  104825 non-null  datetime64[ns]\n",
      " 3   mb_used       104825 non-null  float64       \n",
      "dtypes: datetime64[ns](1), float64(1), int64(1), object(1)\n",
      "memory usage: 3.2+ MB\n"
     ]
    }
   ],
   "source": [
    "# actualizar información general\n",
    "internet.info()"
   ]
  },
  {
   "cell_type": "markdown",
   "metadata": {},
   "source": [
    "### Enriquecer datos <a id='enriquecer_internet'></a>"
   ]
  },
  {
   "cell_type": "code",
   "execution_count": 32,
   "metadata": {},
   "outputs": [],
   "source": [
    "# Agrega columna mounth_calls para saber el mes en el que se realizó la llamada v\n",
    "internet['month']= pd.DatetimeIndex(internet['session_date']).month"
   ]
  },
  {
   "cell_type": "code",
   "execution_count": 33,
   "metadata": {},
   "outputs": [
    {
     "data": {
      "text/html": [
       "<div>\n",
       "<style scoped>\n",
       "    .dataframe tbody tr th:only-of-type {\n",
       "        vertical-align: middle;\n",
       "    }\n",
       "\n",
       "    .dataframe tbody tr th {\n",
       "        vertical-align: top;\n",
       "    }\n",
       "\n",
       "    .dataframe thead th {\n",
       "        text-align: right;\n",
       "    }\n",
       "</style>\n",
       "<table border=\"1\" class=\"dataframe\">\n",
       "  <thead>\n",
       "    <tr style=\"text-align: right;\">\n",
       "      <th></th>\n",
       "      <th>id</th>\n",
       "      <th>user_id</th>\n",
       "      <th>message_date</th>\n",
       "      <th>month</th>\n",
       "    </tr>\n",
       "  </thead>\n",
       "  <tbody>\n",
       "    <tr>\n",
       "      <th>0</th>\n",
       "      <td>1000_125</td>\n",
       "      <td>1000</td>\n",
       "      <td>2018-12-27</td>\n",
       "      <td>12</td>\n",
       "    </tr>\n",
       "    <tr>\n",
       "      <th>1</th>\n",
       "      <td>1000_160</td>\n",
       "      <td>1000</td>\n",
       "      <td>2018-12-31</td>\n",
       "      <td>12</td>\n",
       "    </tr>\n",
       "    <tr>\n",
       "      <th>2</th>\n",
       "      <td>1000_223</td>\n",
       "      <td>1000</td>\n",
       "      <td>2018-12-31</td>\n",
       "      <td>12</td>\n",
       "    </tr>\n",
       "    <tr>\n",
       "      <th>3</th>\n",
       "      <td>1000_251</td>\n",
       "      <td>1000</td>\n",
       "      <td>2018-12-27</td>\n",
       "      <td>12</td>\n",
       "    </tr>\n",
       "    <tr>\n",
       "      <th>4</th>\n",
       "      <td>1000_255</td>\n",
       "      <td>1000</td>\n",
       "      <td>2018-12-26</td>\n",
       "      <td>12</td>\n",
       "    </tr>\n",
       "  </tbody>\n",
       "</table>\n",
       "</div>"
      ],
      "text/plain": [
       "         id  user_id message_date  month\n",
       "0  1000_125     1000   2018-12-27     12\n",
       "1  1000_160     1000   2018-12-31     12\n",
       "2  1000_223     1000   2018-12-31     12\n",
       "3  1000_251     1000   2018-12-27     12\n",
       "4  1000_255     1000   2018-12-26     12"
      ]
     },
     "execution_count": 33,
     "metadata": {},
     "output_type": "execute_result"
    }
   ],
   "source": [
    "# comprobar la tabla\n",
    "messages.head()"
   ]
  },
  {
   "cell_type": "markdown",
   "metadata": {},
   "source": [
    "### Estudiar las condiciones del plan <a id='estudiar_condiciones'></a>"
   ]
  },
  {
   "cell_type": "code",
   "execution_count": 34,
   "metadata": {},
   "outputs": [
    {
     "data": {
      "text/html": [
       "<div>\n",
       "<style scoped>\n",
       "    .dataframe tbody tr th:only-of-type {\n",
       "        vertical-align: middle;\n",
       "    }\n",
       "\n",
       "    .dataframe tbody tr th {\n",
       "        vertical-align: top;\n",
       "    }\n",
       "\n",
       "    .dataframe thead th {\n",
       "        text-align: right;\n",
       "    }\n",
       "</style>\n",
       "<table border=\"1\" class=\"dataframe\">\n",
       "  <thead>\n",
       "    <tr style=\"text-align: right;\">\n",
       "      <th></th>\n",
       "      <th>messages_included</th>\n",
       "      <th>mb_per_month_included</th>\n",
       "      <th>minutes_included</th>\n",
       "      <th>usd_monthly_pay</th>\n",
       "      <th>usd_per_gb</th>\n",
       "      <th>usd_per_message</th>\n",
       "      <th>usd_per_minute</th>\n",
       "      <th>plan</th>\n",
       "    </tr>\n",
       "  </thead>\n",
       "  <tbody>\n",
       "    <tr>\n",
       "      <th>0</th>\n",
       "      <td>50</td>\n",
       "      <td>15360</td>\n",
       "      <td>500</td>\n",
       "      <td>20</td>\n",
       "      <td>10</td>\n",
       "      <td>0.03</td>\n",
       "      <td>0.03</td>\n",
       "      <td>surf</td>\n",
       "    </tr>\n",
       "    <tr>\n",
       "      <th>1</th>\n",
       "      <td>1000</td>\n",
       "      <td>30720</td>\n",
       "      <td>3000</td>\n",
       "      <td>70</td>\n",
       "      <td>7</td>\n",
       "      <td>0.01</td>\n",
       "      <td>0.01</td>\n",
       "      <td>ultimate</td>\n",
       "    </tr>\n",
       "  </tbody>\n",
       "</table>\n",
       "</div>"
      ],
      "text/plain": [
       "   messages_included  mb_per_month_included  minutes_included  \\\n",
       "0                 50                  15360               500   \n",
       "1               1000                  30720              3000   \n",
       "\n",
       "   usd_monthly_pay  usd_per_gb  usd_per_message  usd_per_minute      plan  \n",
       "0               20          10             0.03            0.03      surf  \n",
       "1               70           7             0.01            0.01  ultimate  "
      ]
     },
     "execution_count": 34,
     "metadata": {},
     "output_type": "execute_result"
    }
   ],
   "source": [
    "# Imprime las condiciones del plan y asegúrate de que te resulten claros\n",
    "plans.head()"
   ]
  },
  {
   "cell_type": "markdown",
   "metadata": {},
   "source": [
    "## Agregar datos por usuario <a id='agregar'></a>"
   ]
  },
  {
   "cell_type": "code",
   "execution_count": 35,
   "metadata": {},
   "outputs": [
    {
     "data": {
      "text/html": [
       "<div>\n",
       "<style scoped>\n",
       "    .dataframe tbody tr th:only-of-type {\n",
       "        vertical-align: middle;\n",
       "    }\n",
       "\n",
       "    .dataframe tbody tr th {\n",
       "        vertical-align: top;\n",
       "    }\n",
       "\n",
       "    .dataframe thead tr th {\n",
       "        text-align: left;\n",
       "    }\n",
       "</style>\n",
       "<table border=\"1\" class=\"dataframe\">\n",
       "  <thead>\n",
       "    <tr>\n",
       "      <th></th>\n",
       "      <th>user_id</th>\n",
       "      <th>month</th>\n",
       "      <th>count</th>\n",
       "      <th>sum</th>\n",
       "    </tr>\n",
       "    <tr>\n",
       "      <th></th>\n",
       "      <th></th>\n",
       "      <th></th>\n",
       "      <th>duration</th>\n",
       "      <th>duration</th>\n",
       "    </tr>\n",
       "  </thead>\n",
       "  <tbody>\n",
       "    <tr>\n",
       "      <th>0</th>\n",
       "      <td>1000</td>\n",
       "      <td>12</td>\n",
       "      <td>16</td>\n",
       "      <td>124</td>\n",
       "    </tr>\n",
       "    <tr>\n",
       "      <th>1</th>\n",
       "      <td>1001</td>\n",
       "      <td>8</td>\n",
       "      <td>27</td>\n",
       "      <td>182</td>\n",
       "    </tr>\n",
       "    <tr>\n",
       "      <th>2</th>\n",
       "      <td>1001</td>\n",
       "      <td>9</td>\n",
       "      <td>49</td>\n",
       "      <td>315</td>\n",
       "    </tr>\n",
       "    <tr>\n",
       "      <th>3</th>\n",
       "      <td>1001</td>\n",
       "      <td>10</td>\n",
       "      <td>65</td>\n",
       "      <td>393</td>\n",
       "    </tr>\n",
       "    <tr>\n",
       "      <th>4</th>\n",
       "      <td>1001</td>\n",
       "      <td>11</td>\n",
       "      <td>64</td>\n",
       "      <td>426</td>\n",
       "    </tr>\n",
       "    <tr>\n",
       "      <th>...</th>\n",
       "      <td>...</td>\n",
       "      <td>...</td>\n",
       "      <td>...</td>\n",
       "      <td>...</td>\n",
       "    </tr>\n",
       "    <tr>\n",
       "      <th>2253</th>\n",
       "      <td>1498</td>\n",
       "      <td>12</td>\n",
       "      <td>39</td>\n",
       "      <td>339</td>\n",
       "    </tr>\n",
       "    <tr>\n",
       "      <th>2254</th>\n",
       "      <td>1499</td>\n",
       "      <td>9</td>\n",
       "      <td>41</td>\n",
       "      <td>346</td>\n",
       "    </tr>\n",
       "    <tr>\n",
       "      <th>2255</th>\n",
       "      <td>1499</td>\n",
       "      <td>10</td>\n",
       "      <td>53</td>\n",
       "      <td>385</td>\n",
       "    </tr>\n",
       "    <tr>\n",
       "      <th>2256</th>\n",
       "      <td>1499</td>\n",
       "      <td>11</td>\n",
       "      <td>45</td>\n",
       "      <td>308</td>\n",
       "    </tr>\n",
       "    <tr>\n",
       "      <th>2257</th>\n",
       "      <td>1499</td>\n",
       "      <td>12</td>\n",
       "      <td>65</td>\n",
       "      <td>496</td>\n",
       "    </tr>\n",
       "  </tbody>\n",
       "</table>\n",
       "<p>2258 rows × 4 columns</p>\n",
       "</div>"
      ],
      "text/plain": [
       "     user_id month    count      sum\n",
       "                   duration duration\n",
       "0       1000    12       16      124\n",
       "1       1001     8       27      182\n",
       "2       1001     9       49      315\n",
       "3       1001    10       65      393\n",
       "4       1001    11       64      426\n",
       "...      ...   ...      ...      ...\n",
       "2253    1498    12       39      339\n",
       "2254    1499     9       41      346\n",
       "2255    1499    10       53      385\n",
       "2256    1499    11       45      308\n",
       "2257    1499    12       65      496\n",
       "\n",
       "[2258 rows x 4 columns]"
      ]
     },
     "execution_count": 35,
     "metadata": {},
     "output_type": "execute_result"
    }
   ],
   "source": [
    "calls_user_count=calls.pivot_table(index=['user_id','month'], values='duration',aggfunc=['count','sum'])\n",
    "calls_user_count.reset_index()"
   ]
  },
  {
   "cell_type": "code",
   "execution_count": 36,
   "metadata": {},
   "outputs": [
    {
     "data": {
      "text/html": [
       "<div>\n",
       "<style scoped>\n",
       "    .dataframe tbody tr th:only-of-type {\n",
       "        vertical-align: middle;\n",
       "    }\n",
       "\n",
       "    .dataframe tbody tr th {\n",
       "        vertical-align: top;\n",
       "    }\n",
       "\n",
       "    .dataframe thead th {\n",
       "        text-align: right;\n",
       "    }\n",
       "</style>\n",
       "<table border=\"1\" class=\"dataframe\">\n",
       "  <thead>\n",
       "    <tr style=\"text-align: right;\">\n",
       "      <th></th>\n",
       "      <th>user_id</th>\n",
       "      <th>month</th>\n",
       "      <th>id</th>\n",
       "    </tr>\n",
       "  </thead>\n",
       "  <tbody>\n",
       "    <tr>\n",
       "      <th>0</th>\n",
       "      <td>1000</td>\n",
       "      <td>12</td>\n",
       "      <td>11</td>\n",
       "    </tr>\n",
       "    <tr>\n",
       "      <th>1</th>\n",
       "      <td>1001</td>\n",
       "      <td>8</td>\n",
       "      <td>30</td>\n",
       "    </tr>\n",
       "    <tr>\n",
       "      <th>2</th>\n",
       "      <td>1001</td>\n",
       "      <td>9</td>\n",
       "      <td>44</td>\n",
       "    </tr>\n",
       "    <tr>\n",
       "      <th>3</th>\n",
       "      <td>1001</td>\n",
       "      <td>10</td>\n",
       "      <td>53</td>\n",
       "    </tr>\n",
       "    <tr>\n",
       "      <th>4</th>\n",
       "      <td>1001</td>\n",
       "      <td>11</td>\n",
       "      <td>36</td>\n",
       "    </tr>\n",
       "    <tr>\n",
       "      <th>...</th>\n",
       "      <td>...</td>\n",
       "      <td>...</td>\n",
       "      <td>...</td>\n",
       "    </tr>\n",
       "    <tr>\n",
       "      <th>1801</th>\n",
       "      <td>1496</td>\n",
       "      <td>9</td>\n",
       "      <td>21</td>\n",
       "    </tr>\n",
       "    <tr>\n",
       "      <th>1802</th>\n",
       "      <td>1496</td>\n",
       "      <td>10</td>\n",
       "      <td>18</td>\n",
       "    </tr>\n",
       "    <tr>\n",
       "      <th>1803</th>\n",
       "      <td>1496</td>\n",
       "      <td>11</td>\n",
       "      <td>13</td>\n",
       "    </tr>\n",
       "    <tr>\n",
       "      <th>1804</th>\n",
       "      <td>1496</td>\n",
       "      <td>12</td>\n",
       "      <td>11</td>\n",
       "    </tr>\n",
       "    <tr>\n",
       "      <th>1805</th>\n",
       "      <td>1497</td>\n",
       "      <td>12</td>\n",
       "      <td>50</td>\n",
       "    </tr>\n",
       "  </tbody>\n",
       "</table>\n",
       "<p>1806 rows × 3 columns</p>\n",
       "</div>"
      ],
      "text/plain": [
       "      user_id  month  id\n",
       "0        1000     12  11\n",
       "1        1001      8  30\n",
       "2        1001      9  44\n",
       "3        1001     10  53\n",
       "4        1001     11  36\n",
       "...       ...    ...  ..\n",
       "1801     1496      9  21\n",
       "1802     1496     10  18\n",
       "1803     1496     11  13\n",
       "1804     1496     12  11\n",
       "1805     1497     12  50\n",
       "\n",
       "[1806 rows x 3 columns]"
      ]
     },
     "execution_count": 36,
     "metadata": {},
     "output_type": "execute_result"
    }
   ],
   "source": [
    "# Calcula el número de mensajes enviados por cada usuario por mes. Guarda el resultado.\n",
    "\n",
    "messages_user_count= messages.groupby(['user_id','month'])['id'].count().to_frame()\n",
    "messages_user_count.reset_index()\n"
   ]
  },
  {
   "cell_type": "code",
   "execution_count": 37,
   "metadata": {},
   "outputs": [
    {
     "data": {
      "text/html": [
       "<div>\n",
       "<style scoped>\n",
       "    .dataframe tbody tr th:only-of-type {\n",
       "        vertical-align: middle;\n",
       "    }\n",
       "\n",
       "    .dataframe tbody tr th {\n",
       "        vertical-align: top;\n",
       "    }\n",
       "\n",
       "    .dataframe thead th {\n",
       "        text-align: right;\n",
       "    }\n",
       "</style>\n",
       "<table border=\"1\" class=\"dataframe\">\n",
       "  <thead>\n",
       "    <tr style=\"text-align: right;\">\n",
       "      <th></th>\n",
       "      <th>user_id</th>\n",
       "      <th>month</th>\n",
       "      <th>mb_used</th>\n",
       "    </tr>\n",
       "  </thead>\n",
       "  <tbody>\n",
       "    <tr>\n",
       "      <th>0</th>\n",
       "      <td>1000</td>\n",
       "      <td>12</td>\n",
       "      <td>1902.0</td>\n",
       "    </tr>\n",
       "    <tr>\n",
       "      <th>1</th>\n",
       "      <td>1001</td>\n",
       "      <td>8</td>\n",
       "      <td>6920.0</td>\n",
       "    </tr>\n",
       "    <tr>\n",
       "      <th>2</th>\n",
       "      <td>1001</td>\n",
       "      <td>9</td>\n",
       "      <td>13315.0</td>\n",
       "    </tr>\n",
       "    <tr>\n",
       "      <th>3</th>\n",
       "      <td>1001</td>\n",
       "      <td>10</td>\n",
       "      <td>22331.0</td>\n",
       "    </tr>\n",
       "    <tr>\n",
       "      <th>4</th>\n",
       "      <td>1001</td>\n",
       "      <td>11</td>\n",
       "      <td>18505.0</td>\n",
       "    </tr>\n",
       "    <tr>\n",
       "      <th>...</th>\n",
       "      <td>...</td>\n",
       "      <td>...</td>\n",
       "      <td>...</td>\n",
       "    </tr>\n",
       "    <tr>\n",
       "      <th>2272</th>\n",
       "      <td>1498</td>\n",
       "      <td>12</td>\n",
       "      <td>23138.0</td>\n",
       "    </tr>\n",
       "    <tr>\n",
       "      <th>2273</th>\n",
       "      <td>1499</td>\n",
       "      <td>9</td>\n",
       "      <td>12985.0</td>\n",
       "    </tr>\n",
       "    <tr>\n",
       "      <th>2274</th>\n",
       "      <td>1499</td>\n",
       "      <td>10</td>\n",
       "      <td>19493.0</td>\n",
       "    </tr>\n",
       "    <tr>\n",
       "      <th>2275</th>\n",
       "      <td>1499</td>\n",
       "      <td>11</td>\n",
       "      <td>16814.0</td>\n",
       "    </tr>\n",
       "    <tr>\n",
       "      <th>2276</th>\n",
       "      <td>1499</td>\n",
       "      <td>12</td>\n",
       "      <td>22060.0</td>\n",
       "    </tr>\n",
       "  </tbody>\n",
       "</table>\n",
       "<p>2277 rows × 3 columns</p>\n",
       "</div>"
      ],
      "text/plain": [
       "      user_id  month  mb_used\n",
       "0        1000     12   1902.0\n",
       "1        1001      8   6920.0\n",
       "2        1001      9  13315.0\n",
       "3        1001     10  22331.0\n",
       "4        1001     11  18505.0\n",
       "...       ...    ...      ...\n",
       "2272     1498     12  23138.0\n",
       "2273     1499      9  12985.0\n",
       "2274     1499     10  19493.0\n",
       "2275     1499     11  16814.0\n",
       "2276     1499     12  22060.0\n",
       "\n",
       "[2277 rows x 3 columns]"
      ]
     },
     "execution_count": 37,
     "metadata": {},
     "output_type": "execute_result"
    }
   ],
   "source": [
    "# Calcula el volumen del trafico de internet usado por cada usuario por mes. Guarda el resultado.\n",
    "internet_user_total= internet.groupby(['user_id','month'])['mb_used'].sum().to_frame()\n",
    "internet_user_total['mb_used'] = np.ceil(internet_user_total['mb_used'])\n",
    "internet_user_total.reset_index()"
   ]
  },
  {
   "cell_type": "code",
   "execution_count": 38,
   "metadata": {},
   "outputs": [
    {
     "name": "stdout",
     "output_type": "stream",
     "text": [
      "<class 'pandas.core.frame.DataFrame'>\n",
      "RangeIndex: 2293 entries, 0 to 2292\n",
      "Data columns (total 6 columns):\n",
      " #   Column             Non-Null Count  Dtype  \n",
      "---  ------             --------------  -----  \n",
      " 0   user_id            2293 non-null   int64  \n",
      " 1   month              2293 non-null   int64  \n",
      " 2   (count, duration)  2258 non-null   float64\n",
      " 3   (sum, duration)    2258 non-null   float64\n",
      " 4   id                 1806 non-null   float64\n",
      " 5   mb_used            2277 non-null   float64\n",
      "dtypes: float64(4), int64(2)\n",
      "memory usage: 107.6 KB\n"
     ]
    },
    {
     "name": "stderr",
     "output_type": "stream",
     "text": [
      "/opt/conda/lib/python3.9/site-packages/pandas/core/reshape/merge.py:648: UserWarning: merging between different levels can give an unintended result (2 levels on the left,1 on the right)\n",
      "  warnings.warn(msg, UserWarning)\n"
     ]
    }
   ],
   "source": [
    "# Combina los datos para las llamadas, minutos, mensajes e internet con base en el user_id y el mes\n",
    "\n",
    "nueva_tabla= pd.merge(calls_user_count, messages_user_count, on=['user_id','month'], how='outer')\n",
    "nueva_tabla2=pd.merge(nueva_tabla, internet_user_total,on=['user_id','month'], how='outer') \n",
    "nueva_tabla2=nueva_tabla2.reset_index()\n",
    "nueva_tabla2.info()\n"
   ]
  },
  {
   "cell_type": "code",
   "execution_count": 39,
   "metadata": {},
   "outputs": [],
   "source": [
    "# Añade la información del plan y ajustar nombres de columnas\n",
    "subconjunto_users= users[['user_id','plan']]\n",
    "subconjunto_plan= plans[['plan','usd_monthly_pay']] \n",
    "usuarios1=pd.merge(nueva_tabla2,subconjunto_users, on='user_id')\n",
    "usuarios=pd.merge(usuarios1,subconjunto_plan, on='plan')\n",
    "usuarios['mb_used'] = usuarios['mb_used'].astype('int', errors='ignore')\n",
    "usuarios['mb_used'] = usuarios['mb_used'] / 1024\n",
    "usuarios['mb_used'] = usuarios['mb_used'].apply(np.ceil)\n",
    "usuarios.columns=['user_id','month','calls','duration','messages','gb_used','plan','usd_monthly_pay']\n"
   ]
  },
  {
   "cell_type": "code",
   "execution_count": 40,
   "metadata": {},
   "outputs": [
    {
     "name": "stdout",
     "output_type": "stream",
     "text": [
      "<class 'pandas.core.frame.DataFrame'>\n",
      "Int64Index: 2293 entries, 0 to 2292\n",
      "Data columns (total 8 columns):\n",
      " #   Column           Non-Null Count  Dtype  \n",
      "---  ------           --------------  -----  \n",
      " 0   user_id          2293 non-null   int64  \n",
      " 1   month            2293 non-null   int64  \n",
      " 2   calls            2293 non-null   float64\n",
      " 3   duration         2293 non-null   float64\n",
      " 4   messages         2293 non-null   float64\n",
      " 5   gb_used          2293 non-null   float64\n",
      " 6   plan             2293 non-null   object \n",
      " 7   usd_monthly_pay  2293 non-null   int64  \n",
      "dtypes: float64(4), int64(3), object(1)\n",
      "memory usage: 161.2+ KB\n"
     ]
    }
   ],
   "source": [
    "# Reemplazar los valores nulos con ceros \n",
    "usuarios.fillna({'calls':0, 'duration': 0, 'messages': 0, 'gb_used':0 }, inplace=True)\n",
    "usuarios.info()"
   ]
  },
  {
   "cell_type": "code",
   "execution_count": 41,
   "metadata": {},
   "outputs": [],
   "source": [
    "# Calcula el ingreso mensual para cada usuario\n",
    "\n",
    "#beneficios de cada plan\n",
    "usuarios['minutos_incluidos']= usuarios['plan'].apply(lambda x: 500 if x == 'surf' else 3000)\n",
    "usuarios['mensajes_incluidos']= usuarios['plan'].apply(lambda x: 50 if x == 'surf' else 1000)\n",
    "usuarios['gb_incluidos']= usuarios['plan'].apply(lambda x: 15 if x == 'surf' else 30)\n",
    "\n",
    "#consumo adicional de los clientes por mes\n",
    "usuarios['dif_minutos']= usuarios['minutos_incluidos'] - usuarios['duration']\n",
    "usuarios['dif_minutos']= usuarios['dif_minutos'].apply(lambda x: 0 if x > 0 else x)\n",
    "usuarios['dif_minutos']= usuarios['dif_minutos'].abs()\n",
    "\n",
    "usuarios['dif_mensajes'] = usuarios['mensajes_incluidos'] - usuarios['messages']\n",
    "usuarios['dif_mensajes']= usuarios['dif_mensajes'].apply(lambda x: 0 if x > 0 else x)\n",
    "usuarios['dif_mensajes']= usuarios['dif_mensajes'].abs()\n",
    "\n",
    "dif_mb = (usuarios['gb_incluidos'] - usuarios['gb_used']) \n",
    "usuarios['dif_gb'] = dif_mb.apply(np.ceil)\n",
    "usuarios['dif_gb']= usuarios['dif_gb'].apply(lambda x: 0 if x > 0 else x)\n",
    "usuarios['dif_gb']= usuarios['dif_gb'].abs()\n",
    "\n",
    "#recargos de cada clientes por mes\n",
    "usuarios['recargo_minutos']= usuarios.apply(lambda row: row['dif_minutos'] * 0.03 if row['plan'] =='surf' else row['dif_minutos'] * 0.01, axis= 1)\n",
    "\n",
    "usuarios['recargo_mensajes']= usuarios.apply(lambda row: row['dif_mensajes'] * 0.03 if row['plan'] =='surf' else row['dif_mensajes'] * 0.01, axis= 1)\n",
    "\n",
    "usuarios['recargo_gb']= usuarios.apply(lambda row: row['dif_gb'] * 10 if row['plan'] =='surf' else row['dif_gb'] * 7, axis= 1)\n",
    "\n",
    "#Recargos totales de cada cliente por mes\n",
    "\n",
    "usuarios['total_mes']= usuarios['usd_monthly_pay'] + usuarios['recargo_minutos'] + usuarios['recargo_mensajes'] + usuarios['recargo_gb']\n"
   ]
  },
  {
   "cell_type": "code",
   "execution_count": 42,
   "metadata": {},
   "outputs": [
    {
     "data": {
      "text/html": [
       "<div>\n",
       "<style scoped>\n",
       "    .dataframe tbody tr th:only-of-type {\n",
       "        vertical-align: middle;\n",
       "    }\n",
       "\n",
       "    .dataframe tbody tr th {\n",
       "        vertical-align: top;\n",
       "    }\n",
       "\n",
       "    .dataframe thead th {\n",
       "        text-align: right;\n",
       "    }\n",
       "</style>\n",
       "<table border=\"1\" class=\"dataframe\">\n",
       "  <thead>\n",
       "    <tr style=\"text-align: right;\">\n",
       "      <th></th>\n",
       "      <th>user_id</th>\n",
       "      <th>month</th>\n",
       "      <th>calls</th>\n",
       "      <th>duration</th>\n",
       "      <th>messages</th>\n",
       "      <th>gb_used</th>\n",
       "      <th>plan</th>\n",
       "      <th>usd_monthly_pay</th>\n",
       "      <th>minutos_incluidos</th>\n",
       "      <th>mensajes_incluidos</th>\n",
       "      <th>gb_incluidos</th>\n",
       "      <th>dif_minutos</th>\n",
       "      <th>dif_mensajes</th>\n",
       "      <th>dif_gb</th>\n",
       "      <th>recargo_minutos</th>\n",
       "      <th>recargo_mensajes</th>\n",
       "      <th>recargo_gb</th>\n",
       "      <th>total_mes</th>\n",
       "    </tr>\n",
       "  </thead>\n",
       "  <tbody>\n",
       "    <tr>\n",
       "      <th>0</th>\n",
       "      <td>1000</td>\n",
       "      <td>12</td>\n",
       "      <td>16.0</td>\n",
       "      <td>124.0</td>\n",
       "      <td>11.0</td>\n",
       "      <td>2.0</td>\n",
       "      <td>ultimate</td>\n",
       "      <td>70</td>\n",
       "      <td>3000</td>\n",
       "      <td>1000</td>\n",
       "      <td>30</td>\n",
       "      <td>0.0</td>\n",
       "      <td>0.0</td>\n",
       "      <td>0.0</td>\n",
       "      <td>0.0</td>\n",
       "      <td>0.0</td>\n",
       "      <td>0.0</td>\n",
       "      <td>70.0</td>\n",
       "    </tr>\n",
       "    <tr>\n",
       "      <th>1</th>\n",
       "      <td>1006</td>\n",
       "      <td>11</td>\n",
       "      <td>2.0</td>\n",
       "      <td>10.0</td>\n",
       "      <td>15.0</td>\n",
       "      <td>3.0</td>\n",
       "      <td>ultimate</td>\n",
       "      <td>70</td>\n",
       "      <td>3000</td>\n",
       "      <td>1000</td>\n",
       "      <td>30</td>\n",
       "      <td>0.0</td>\n",
       "      <td>0.0</td>\n",
       "      <td>0.0</td>\n",
       "      <td>0.0</td>\n",
       "      <td>0.0</td>\n",
       "      <td>0.0</td>\n",
       "      <td>70.0</td>\n",
       "    </tr>\n",
       "    <tr>\n",
       "      <th>2</th>\n",
       "      <td>1006</td>\n",
       "      <td>12</td>\n",
       "      <td>9.0</td>\n",
       "      <td>59.0</td>\n",
       "      <td>139.0</td>\n",
       "      <td>32.0</td>\n",
       "      <td>ultimate</td>\n",
       "      <td>70</td>\n",
       "      <td>3000</td>\n",
       "      <td>1000</td>\n",
       "      <td>30</td>\n",
       "      <td>0.0</td>\n",
       "      <td>0.0</td>\n",
       "      <td>2.0</td>\n",
       "      <td>0.0</td>\n",
       "      <td>0.0</td>\n",
       "      <td>14.0</td>\n",
       "      <td>84.0</td>\n",
       "    </tr>\n",
       "    <tr>\n",
       "      <th>3</th>\n",
       "      <td>1008</td>\n",
       "      <td>10</td>\n",
       "      <td>71.0</td>\n",
       "      <td>476.0</td>\n",
       "      <td>21.0</td>\n",
       "      <td>17.0</td>\n",
       "      <td>ultimate</td>\n",
       "      <td>70</td>\n",
       "      <td>3000</td>\n",
       "      <td>1000</td>\n",
       "      <td>30</td>\n",
       "      <td>0.0</td>\n",
       "      <td>0.0</td>\n",
       "      <td>0.0</td>\n",
       "      <td>0.0</td>\n",
       "      <td>0.0</td>\n",
       "      <td>0.0</td>\n",
       "      <td>70.0</td>\n",
       "    </tr>\n",
       "    <tr>\n",
       "      <th>4</th>\n",
       "      <td>1008</td>\n",
       "      <td>11</td>\n",
       "      <td>63.0</td>\n",
       "      <td>446.0</td>\n",
       "      <td>37.0</td>\n",
       "      <td>24.0</td>\n",
       "      <td>ultimate</td>\n",
       "      <td>70</td>\n",
       "      <td>3000</td>\n",
       "      <td>1000</td>\n",
       "      <td>30</td>\n",
       "      <td>0.0</td>\n",
       "      <td>0.0</td>\n",
       "      <td>0.0</td>\n",
       "      <td>0.0</td>\n",
       "      <td>0.0</td>\n",
       "      <td>0.0</td>\n",
       "      <td>70.0</td>\n",
       "    </tr>\n",
       "  </tbody>\n",
       "</table>\n",
       "</div>"
      ],
      "text/plain": [
       "   user_id  month  calls  duration  messages  gb_used      plan  \\\n",
       "0     1000     12   16.0     124.0      11.0      2.0  ultimate   \n",
       "1     1006     11    2.0      10.0      15.0      3.0  ultimate   \n",
       "2     1006     12    9.0      59.0     139.0     32.0  ultimate   \n",
       "3     1008     10   71.0     476.0      21.0     17.0  ultimate   \n",
       "4     1008     11   63.0     446.0      37.0     24.0  ultimate   \n",
       "\n",
       "   usd_monthly_pay  minutos_incluidos  mensajes_incluidos  gb_incluidos  \\\n",
       "0               70               3000                1000            30   \n",
       "1               70               3000                1000            30   \n",
       "2               70               3000                1000            30   \n",
       "3               70               3000                1000            30   \n",
       "4               70               3000                1000            30   \n",
       "\n",
       "   dif_minutos  dif_mensajes  dif_gb  recargo_minutos  recargo_mensajes  \\\n",
       "0          0.0           0.0     0.0              0.0               0.0   \n",
       "1          0.0           0.0     0.0              0.0               0.0   \n",
       "2          0.0           0.0     2.0              0.0               0.0   \n",
       "3          0.0           0.0     0.0              0.0               0.0   \n",
       "4          0.0           0.0     0.0              0.0               0.0   \n",
       "\n",
       "   recargo_gb  total_mes  \n",
       "0         0.0       70.0  \n",
       "1         0.0       70.0  \n",
       "2        14.0       84.0  \n",
       "3         0.0       70.0  \n",
       "4         0.0       70.0  "
      ]
     },
     "execution_count": 42,
     "metadata": {},
     "output_type": "execute_result"
    }
   ],
   "source": [
    " usuarios.head()"
   ]
  },
  {
   "cell_type": "code",
   "execution_count": 43,
   "metadata": {},
   "outputs": [
    {
     "name": "stdout",
     "output_type": "stream",
     "text": [
      "<class 'pandas.core.frame.DataFrame'>\n",
      "Int64Index: 2293 entries, 0 to 2292\n",
      "Data columns (total 18 columns):\n",
      " #   Column              Non-Null Count  Dtype  \n",
      "---  ------              --------------  -----  \n",
      " 0   user_id             2293 non-null   int64  \n",
      " 1   month               2293 non-null   int64  \n",
      " 2   calls               2293 non-null   float64\n",
      " 3   duration            2293 non-null   float64\n",
      " 4   messages            2293 non-null   float64\n",
      " 5   gb_used             2293 non-null   float64\n",
      " 6   plan                2293 non-null   object \n",
      " 7   usd_monthly_pay     2293 non-null   int64  \n",
      " 8   minutos_incluidos   2293 non-null   int64  \n",
      " 9   mensajes_incluidos  2293 non-null   int64  \n",
      " 10  gb_incluidos        2293 non-null   int64  \n",
      " 11  dif_minutos         2293 non-null   float64\n",
      " 12  dif_mensajes        2293 non-null   float64\n",
      " 13  dif_gb              2293 non-null   float64\n",
      " 14  recargo_minutos     2293 non-null   float64\n",
      " 15  recargo_mensajes    2293 non-null   float64\n",
      " 16  recargo_gb          2293 non-null   float64\n",
      " 17  total_mes           2293 non-null   float64\n",
      "dtypes: float64(11), int64(6), object(1)\n",
      "memory usage: 340.4+ KB\n"
     ]
    }
   ],
   "source": [
    "usuarios.info()"
   ]
  },
  {
   "cell_type": "markdown",
   "metadata": {},
   "source": [
    "El dataset usuarios contiene los siguientes campos:\n",
    "\n",
    "- `user_id` — identificador único del usuario     \n",
    "- `month`  — mes de la llamada, mensaje y gb usados\n",
    "- `calls`  — número de llamadas \n",
    "- `duration` — duración de la llamada (en minutos)   \n",
    "- `messages` — número de mensajes       \n",
    "- `gb_used` — el volumen de datos gastados durante la sesión (en gigabytes) \n",
    "- `plan` — nombre de la tarifa\n",
    "- `usd_monthly_pay` — valor del plan\n",
    "- `minutos_incluidos` — minutos incluidos en el plan\n",
    "- `mensajes_incluidos` — mensajes incluidos en el plan     \n",
    "- `gb_incluidos`  — GB incluidos en el plan\n",
    "- `dif_minutos`  — minutos consumidos fuera del plan\n",
    "- `dif_mensajes` — mensajes enviados fuera del plan   \n",
    "- `dif_gb` — GB consumidos fuera del plan       \n",
    "- `recargo_minutos` — pago adicional por concepto de minutos consumidos fuera del plan\n",
    "- `recargo_mensajes` — pago adicional por concepto de mensajes enviados fuera del plan       \n",
    "- `recargo_gb` — minutos incluidos en el plan\n",
    "- `total_mes` — total a pagar que suma el valor del plan, los recargos por minutos, mensajes y gb consumidos fuera del plan.\n",
    "\n",
    "Tenemos un conjunto de datos conformado por 18 columnas, no tiene valores ausentes y además tiene 2293 filas, no se necesita ajustar tipos de datos."
   ]
  },
  {
   "cell_type": "markdown",
   "metadata": {},
   "source": [
    "## Estudia el comportamiento del usuario <a id='estudiar'></a>"
   ]
  },
  {
   "cell_type": "markdown",
   "metadata": {},
   "source": [
    "### Llamadas <a id='llamadas_usuarios'></a>"
   ]
  },
  {
   "cell_type": "code",
   "execution_count": 44,
   "metadata": {},
   "outputs": [
    {
     "data": {
      "image/png": "[encoded data removed]",
      "text/plain": [
       "<Figure size 864x288 with 1 Axes>"
      ]
     },
     "metadata": {
      "needs_background": "light"
     },
     "output_type": "display_data"
    }
   ],
   "source": [
    "# Compara la duración promedio de llamadas por cada plan por cada mes. Dibuja una gráfica de barras para visualizarlo.\n",
    "subconjunto_llamadas= usuarios[['month','duration','plan']]\n",
    "\n",
    "#Plan Surf\n",
    "subconjunto_llamadas_1= subconjunto_llamadas[(subconjunto_llamadas['plan']=='surf')]\n",
    "subconjunto_llamadas_surf= subconjunto_llamadas_1.groupby('month')['duration'].mean()\n",
    "subconjunto_llamadas_surf.plot(kind='bar',title= 'Duración Promedio Mensual de llamadas plan Surf',\n",
    "                               grid=True,figsize=(12,4))\n",
    "plt.ylabel('Duración promedio de las llamadas')\n",
    "plt.xlabel('Meses del año')\n",
    "plt.show()"
   ]
  },
  {
   "cell_type": "code",
   "execution_count": 45,
   "metadata": {},
   "outputs": [
    {
     "data": {
      "image/png": "[encoded data removed]",
      "text/plain": [
       "<Figure size 864x288 with 1 Axes>"
      ]
     },
     "metadata": {
      "needs_background": "light"
     },
     "output_type": "display_data"
    }
   ],
   "source": [
    "#Plan Ultimate\n",
    "subconjunto_llamadas_2= subconjunto_llamadas[(subconjunto_llamadas['plan']=='ultimate')]\n",
    "subconjunto_llamadas_ultimate= subconjunto_llamadas_2.groupby('month')['duration'].mean()\n",
    "subconjunto_llamadas_ultimate.plot(kind='bar',title= 'Duración Promedio Mensual de llamadas Plan Ultimate',\n",
    "                                   grid=True,figsize=(12,4))\n",
    "plt.ylabel('Duración promedio de las llamadas')\n",
    "plt.xlabel('Meses del año')\n",
    "plt.show()"
   ]
  },
  {
   "cell_type": "markdown",
   "metadata": {},
   "source": [
    "En un período de 12 meses se puede observar que los usuarios con el Plan Surf tienen una duración promedio mayor al plan ultimate en 6 de los meses del año (1-Enero, 3-Marzo, 4-Abril, 6-Junio, 7-Julio, 12-Diciembre) El resto de los meses es el Plan Ultimate el que tiene los mayores promedios (2-Febrero, 5-Mayo, 8-Agosto, 9-Septiembre, 10-Octubre, 11-Noviembre)"
   ]
  },
  {
   "cell_type": "code",
   "execution_count": 46,
   "metadata": {},
   "outputs": [
    {
     "data": {
      "text/plain": [
       "count    1573.000000\n",
       "mean      428.749523\n",
       "std       234.453150\n",
       "min         0.000000\n",
       "25%       272.000000\n",
       "50%       425.000000\n",
       "75%       576.000000\n",
       "max      1510.000000\n",
       "Name: duration_surf, dtype: float64"
      ]
     },
     "execution_count": 46,
     "metadata": {},
     "output_type": "execute_result"
    }
   ],
   "source": [
    "# Compara el número de minutos que los usuarios de cada plan requieren cada mes. Traza un histograma.\n",
    "subconjunto_minutos= usuarios[['month','duration','plan']]\n",
    "minutos_surf= subconjunto_minutos.query('plan ==\"surf\"')\n",
    "minutos_surf.columns= ['month','duration_surf','plan']\n",
    "minutos_surf['duration_surf'].describe()"
   ]
  },
  {
   "cell_type": "code",
   "execution_count": 47,
   "metadata": {},
   "outputs": [
    {
     "data": {
      "text/plain": [
       "array([[<AxesSubplot:title={'center':'duration_surf'}>]], dtype=object)"
      ]
     },
     "execution_count": 47,
     "metadata": {},
     "output_type": "execute_result"
    },
    {
     "data": {
      "image/png": "[encoded data removed]",
      "text/plain": [
       "<Figure size 432x288 with 1 Axes>"
      ]
     },
     "metadata": {
      "needs_background": "light"
     },
     "output_type": "display_data"
    }
   ],
   "source": [
    "minutos_surf.hist('duration_surf', bins=80)"
   ]
  },
  {
   "cell_type": "markdown",
   "metadata": {},
   "source": [
    "El gráfico contiene la cantidad de minutos que los usuarios requieren cada mes del plan Surf, por lo que se puede observar tenemos un pico considerable muy cerca del 0, otro cerca de los 200 minutos y la mayor cantidad está concentrada entre los 300 y 500 minutos y apartir de ahí los valores empiezan a caer, además hay algunos valores muy altos que se consideran atípicos.  "
   ]
  },
  {
   "cell_type": "code",
   "execution_count": 48,
   "metadata": {},
   "outputs": [
    {
     "data": {
      "text/plain": [
       "count     720.000000\n",
       "mean      430.450000\n",
       "std       240.508762\n",
       "min         0.000000\n",
       "25%       260.000000\n",
       "50%       424.000000\n",
       "75%       565.250000\n",
       "max      1369.000000\n",
       "Name: duration_ultimate, dtype: float64"
      ]
     },
     "execution_count": 48,
     "metadata": {},
     "output_type": "execute_result"
    }
   ],
   "source": [
    "minutos_ultimate= subconjunto_minutos.query('plan ==\"ultimate\"')\n",
    "minutos_ultimate.columns= ['month','duration_ultimate','plan']\n",
    "minutos_ultimate['duration_ultimate'].describe()"
   ]
  },
  {
   "cell_type": "code",
   "execution_count": 49,
   "metadata": {},
   "outputs": [
    {
     "data": {
      "text/plain": [
       "array([[<AxesSubplot:title={'center':'duration_ultimate'}>]], dtype=object)"
      ]
     },
     "execution_count": 49,
     "metadata": {},
     "output_type": "execute_result"
    },
    {
     "data": {
      "image/png": "[encoded data removed]",
      "text/plain": [
       "<Figure size 432x288 with 1 Axes>"
      ]
     },
     "metadata": {
      "needs_background": "light"
     },
     "output_type": "display_data"
    }
   ],
   "source": [
    "minutos_ultimate.hist('duration_ultimate',bins=100)"
   ]
  },
  {
   "cell_type": "markdown",
   "metadata": {},
   "source": [
    "El gráfico contiene la cantidad de minutos que los usuarios requieren cada mes del plan Ultimate, por lo que se puede observar que los mayores valores están muy cerca de los 400 minutos pero inmediatamente empiezan a caer considerablemte además hay algunos valores muy altos que se consideran atípicos.  "
   ]
  },
  {
   "cell_type": "code",
   "execution_count": 50,
   "metadata": {},
   "outputs": [
    {
     "name": "stdout",
     "output_type": "stream",
     "text": [
      "Media de la duración de las llamadas PLAN SURF: 428.7495232040687\n",
      "Varianza de la duración de las llamadas PLAN SURF: 54933.334591317485\n"
     ]
    }
   ],
   "source": [
    "# Calcula la media y la varianza de la duración mensual de llamadas.\n",
    "#Plan surf\n",
    "\n",
    "minutos_surf_mean= minutos_surf['duration_surf'].mean()\n",
    "minutos_surf_variance= np.var(minutos_surf['duration_surf'])\n",
    "print((f'Media de la duración de las llamadas PLAN SURF: {minutos_surf_mean}'))\n",
    "print((f'Varianza de la duración de las llamadas PLAN SURF: {minutos_surf_variance}'))\n"
   ]
  },
  {
   "cell_type": "markdown",
   "metadata": {},
   "source": [
    "Como ya se podía intuir al haber observado el histograma el promedio de minutos que requieren los clientes del plan surf es de 428.7495232040687, esta se ve afectada por los valores atípicos que tiene el conjunto de datos. Se tiene una varianza muy alta 54933.334591317485 lo que indica que se tiene una desviación estándar también alta y de hecho se pudo comprobar que es de 234.453150, esto indica que los valores están bastante dispersos. "
   ]
  },
  {
   "cell_type": "code",
   "execution_count": 51,
   "metadata": {},
   "outputs": [
    {
     "name": "stdout",
     "output_type": "stream",
     "text": [
      "Media de la duración de las llamadas PLAN ULTIMATE: 430.45\n",
      "Varianza de la duración de las llamadas PLAN ULTIMATE: 57764.125277777785\n"
     ]
    }
   ],
   "source": [
    "#Plan ultimate\n",
    "\n",
    "minutos_ultimate_mean= minutos_ultimate['duration_ultimate'].mean()\n",
    "minutos_ultimate_variance= np.var(minutos_ultimate['duration_ultimate'])\n",
    "print((f'Media de la duración de las llamadas PLAN ULTIMATE: {minutos_ultimate_mean}'))\n",
    "print((f'Varianza de la duración de las llamadas PLAN ULTIMATE: {minutos_ultimate_variance}'))"
   ]
  },
  {
   "cell_type": "markdown",
   "metadata": {},
   "source": [
    "Como ya se podía intuir al haber observado el histograma el promedio de minutos que requieren los clientes del plan Ultimate es de 430.45, esta se ve afectada por los valores atípicos que tiene el conjunto de datos. Se tiene una varianza muy alta 57764.125277777785 lo que indica que se tiene una desviación estándar también alta y de hecho se pudo comprobar que es de 240.508762, esto indica que los valores están bastante dispersos. "
   ]
  },
  {
   "cell_type": "code",
   "execution_count": 52,
   "metadata": {},
   "outputs": [
    {
     "data": {
      "image/png": "[encoded data removed]",
      "text/plain": [
       "<Figure size 432x288 with 1 Axes>"
      ]
     },
     "metadata": {
      "needs_background": "light"
     },
     "output_type": "display_data"
    }
   ],
   "source": [
    "# Traza un diagrama de caja para visualizar la distribución de la duración mensual de llamadas.\n",
    "var='plan'\n",
    "grafico_plan= sns.boxplot(x=var, y='duration', data=subconjunto_minutos)"
   ]
  },
  {
   "cell_type": "markdown",
   "metadata": {},
   "source": [
    "En el diagrama de cajas y bigotes tenemos la distribución de la duración mensual de llamadas por tipo de Plan, para el plan Ultimate el valor Q1 está ubicado cerca de los 260 minutos, mientras que el Q3 cerca de los 580 minutos y una mediana ubicada muy cerca de los 400 minutos y presenta valores atípicos mayores a 1000. Para el plan Surf el valor Q1 está ubicado cerca de los 280 minutos, mientras que el Q3 cerca de los 580 minutos y una mediana ubicada muy cerca de los 400 minutos y presenta valores atípicos mayores a 1000. "
   ]
  },
  {
   "cell_type": "markdown",
   "metadata": {},
   "source": [
    "De los 500 usuarios tenemos comportamientos bastantes parecidos entre ambos planes:\n",
    "\n",
    "1- Los clientes con el plan Surf tienen una mediana de 425 minutos al mes(se toma la mediana como referencia ya que tenemos valores atípicos) y  por lo que se puede observar tenemos un pico considerable muy cerca del 0, otro cerca de los 200 minutos y la mayor cantidad está concentrada entre los 300 y 500 minutos y apartir de ahí los valores empiezan a caer.\n",
    "2- Para el plan Surf el valor Q1 está ubicado cerca de los 280 minutos, mientras que el Q3 cerca de los 580 minutos, presenta valores atípicos mayores a 1000.\n",
    "\n",
    "3- Los clientes con el plan Ultimate tienen una mediana de 424 minutos al mes(se toma la mediana como referencia ya que tenemos valores atípicos) y por lo que se puede observar que los mayores valores están muy cerca de los 400 minutos pero inmediatamente empiezan a caer considerablemte. \n",
    "\n",
    "4- Para el plan Ultimate el valor Q1 está ubicado cerca de los 260 minutos, mientras que el Q3 cerca de los 580 minutos, presenta valores atípicos mayores a 1000"
   ]
  },
  {
   "cell_type": "markdown",
   "metadata": {},
   "source": [
    " "
   ]
  },
  {
   "cell_type": "markdown",
   "metadata": {},
   "source": [
    "### Mensajes <a id='mensajes_usuarios'></a>"
   ]
  },
  {
   "cell_type": "code",
   "execution_count": 53,
   "metadata": {},
   "outputs": [
    {
     "data": {
      "image/png": "[encoded data removed]",
      "text/plain": [
       "<Figure size 864x288 with 1 Axes>"
      ]
     },
     "metadata": {
      "needs_background": "light"
     },
     "output_type": "display_data"
    }
   ],
   "source": [
    "# Compara el número promedio de mensajes por cada plan por cada mes. Dibuja una gráfica de barras para visualizarlo.\n",
    "subconjunto_mensajes= usuarios[['month','messages','plan']]\n",
    "#Plan Surf\n",
    "subconjunto_mensajes_1= subconjunto_mensajes[(subconjunto_mensajes['plan']=='surf')]\n",
    "subconjunto_mensajes_surf= subconjunto_mensajes_1.groupby('month')['messages'].mean()\n",
    "subconjunto_mensajes_surf.plot(kind='bar',title= 'Promedio Mensual de mensajes enviados plan Surf',\n",
    "                               grid=True,figsize=(12,4))\n",
    "plt.ylabel('Promedio de mensajes enviados')\n",
    "plt.xlabel('Meses del año')\n",
    "plt.show()"
   ]
  },
  {
   "cell_type": "code",
   "execution_count": 54,
   "metadata": {},
   "outputs": [
    {
     "data": {
      "image/png": "[encoded data removed]",
      "text/plain": [
       "<Figure size 864x288 with 1 Axes>"
      ]
     },
     "metadata": {
      "needs_background": "light"
     },
     "output_type": "display_data"
    }
   ],
   "source": [
    "#Plan Ultimate\n",
    "subconjunto_mensajes_2= subconjunto_mensajes[(subconjunto_mensajes['plan']=='ultimate')]\n",
    "subconjunto_mensajes_ultimate= subconjunto_mensajes_2.groupby('month')['messages'].mean()\n",
    "subconjunto_mensajes_ultimate.plot(kind='bar',title= 'Promedio Mensual de mensajes enviados plan Ultimate',\n",
    "                                   grid=True,figsize=(12,4))\n",
    "plt.ylabel('Promedio de mensajes enviados')\n",
    "plt.xlabel('Meses del año')\n",
    "plt.show()"
   ]
  },
  {
   "cell_type": "markdown",
   "metadata": {},
   "source": [
    "En un período de 12 meses se puede observar que en todos los meses (1-Enero, 2-Febrero, 3-Marzo, 4-Abril, 5-Mayo, 6-Junio, 7-Julio 8-Agosto, 9-Septiembre, 10-Octubre, 11-Noviembre, 12-Diciembre) los usuarios del Plan Ultimate envían más mensajes que los del plan Surf ya que tiene los mayores promedios."
   ]
  },
  {
   "cell_type": "code",
   "execution_count": 55,
   "metadata": {},
   "outputs": [
    {
     "data": {
      "text/plain": [
       "count    1573.000000\n",
       "mean       31.159568\n",
       "std        33.566717\n",
       "min         0.000000\n",
       "25%         3.000000\n",
       "50%        24.000000\n",
       "75%        47.000000\n",
       "max       266.000000\n",
       "Name: mensajes_surf, dtype: float64"
      ]
     },
     "execution_count": 55,
     "metadata": {},
     "output_type": "execute_result"
    }
   ],
   "source": [
    "# Comprara el número de mensajes que tienden a enviar cada mes los usuarios de cada plan\n",
    "subconjunto_mensajes= usuarios[['month','messages','plan']]\n",
    "mensajes_surf= subconjunto_mensajes.query('plan ==\"surf\"')\n",
    "mensajes_surf.columns= ['month','mensajes_surf','plan']\n",
    "mensajes_surf['mensajes_surf'].describe()"
   ]
  },
  {
   "cell_type": "code",
   "execution_count": 56,
   "metadata": {},
   "outputs": [
    {
     "data": {
      "text/plain": [
       "array([[<AxesSubplot:title={'center':'mensajes_surf'}>]], dtype=object)"
      ]
     },
     "execution_count": 56,
     "metadata": {},
     "output_type": "execute_result"
    },
    {
     "data": {
      "image/png": "[encoded data removed]",
      "text/plain": [
       "<Figure size 432x288 with 1 Axes>"
      ]
     },
     "metadata": {
      "needs_background": "light"
     },
     "output_type": "display_data"
    }
   ],
   "source": [
    "mensajes_surf.hist('mensajes_surf',bins=100)"
   ]
  },
  {
   "cell_type": "markdown",
   "metadata": {},
   "source": [
    "El gráfico contiene mensajes que los usuarios envían cada mes del plan Surf; por lo que se puede observar que los mayores valores están muy cerca del 0 luego hay una grupo de valores donde se acumula otra gran cantidad de datos que llega hasta los 50 mensajes y apartir de ahí los valores empiezan a caer considerablemte, además hay algunos valores muy altos que se consideran atípicos. "
   ]
  },
  {
   "cell_type": "code",
   "execution_count": 57,
   "metadata": {},
   "outputs": [
    {
     "data": {
      "text/plain": [
       "count    720.000000\n",
       "mean      37.551389\n",
       "std       34.767179\n",
       "min        0.000000\n",
       "25%        7.000000\n",
       "50%       30.000000\n",
       "75%       61.000000\n",
       "max      166.000000\n",
       "Name: mensajes_ultimate, dtype: float64"
      ]
     },
     "execution_count": 57,
     "metadata": {},
     "output_type": "execute_result"
    }
   ],
   "source": [
    "subconjunto_mensajes= usuarios[['month','messages','plan']]\n",
    "mensajes_ultimate= subconjunto_mensajes.query('plan ==\"ultimate\"')\n",
    "mensajes_ultimate.columns= ['month','mensajes_ultimate','plan']\n",
    "mensajes_ultimate['mensajes_ultimate'].describe()"
   ]
  },
  {
   "cell_type": "code",
   "execution_count": 58,
   "metadata": {},
   "outputs": [
    {
     "data": {
      "text/plain": [
       "array([[<AxesSubplot:title={'center':'mensajes_ultimate'}>]], dtype=object)"
      ]
     },
     "execution_count": 58,
     "metadata": {},
     "output_type": "execute_result"
    },
    {
     "data": {
      "image/png": "[encoded data removed]",
      "text/plain": [
       "<Figure size 432x288 with 1 Axes>"
      ]
     },
     "metadata": {
      "needs_background": "light"
     },
     "output_type": "display_data"
    }
   ],
   "source": [
    "mensajes_ultimate.hist('mensajes_ultimate',bins=70)"
   ]
  },
  {
   "cell_type": "markdown",
   "metadata": {},
   "source": [
    "El gráfico contiene mensajes que los usuarios envían cada mes del plan Ultimate; por lo que se puede observar que tenemos el pico mas alto cerca del cero, luego tenemos una cantidad de valores considerables distribuidos hasta los 80 mensajes, teniendo su pico más alto cerca de los 25; luego los valores comienzan a bajar y se pueden ver algunos valores atípicos que pasan los 150 mensajes.   "
   ]
  },
  {
   "cell_type": "code",
   "execution_count": 59,
   "metadata": {},
   "outputs": [
    {
     "name": "stdout",
     "output_type": "stream",
     "text": [
      "Media de la cantidad de mensajes con el PLAN SURF: 31.15956770502225\n",
      "Varianza de la cantidad de mensajes con el PLAN SURF: 1126.008231726662\n"
     ]
    }
   ],
   "source": [
    "# Calcula la media y la varianza de la cantidad mensual de mensajes.\n",
    "#Plan surf\n",
    "\n",
    "mensajes_surf_mean= mensajes_surf['mensajes_surf'].mean()\n",
    "mensajes_surf_variance= np.var(mensajes_surf['mensajes_surf'])\n",
    "print((f'Media de la cantidad de mensajes con el PLAN SURF: {mensajes_surf_mean}'))\n",
    "print((f'Varianza de la cantidad de mensajes con el PLAN SURF: {mensajes_surf_variance}'))\n"
   ]
  },
  {
   "cell_type": "markdown",
   "metadata": {},
   "source": [
    "El promedio de mensajes que envían los clientes del plan Surf es de 31.15956770502225, esta se ve afectada por los valores atípicos que tiene el conjunto de datos. Se tiene una varianza muy alta 1126.008231726662 lo que indica que se tiene una desviación estándar también alta y de hecho se pudo comprobar que es de 33.566717, esto indica que los valores están bastante dispersos. "
   ]
  },
  {
   "cell_type": "code",
   "execution_count": 60,
   "metadata": {},
   "outputs": [
    {
     "name": "stdout",
     "output_type": "stream",
     "text": [
      "Media de la cantidad de mensajes con el PLAN ULTIMATE: 37.55138888888889\n",
      "Varianza de la cantidad de mensajes con el PLAN ULTIMATE: 1207.0779147376543\n"
     ]
    }
   ],
   "source": [
    "#Plan ultimate\n",
    "\n",
    "mensajes_ultimate_mean= mensajes_ultimate['mensajes_ultimate'].mean()\n",
    "mensajes_ultimate_variance= np.var(mensajes_ultimate['mensajes_ultimate'])\n",
    "print((f'Media de la cantidad de mensajes con el PLAN ULTIMATE: {mensajes_ultimate_mean}'))\n",
    "print((f'Varianza de la cantidad de mensajes con el PLAN ULTIMATE: {mensajes_ultimate_variance}'))"
   ]
  },
  {
   "cell_type": "markdown",
   "metadata": {},
   "source": [
    "El promedio de mensajes que envían los clientes del plan Ultimate es de 37.55138888888889, esta se ve afectada por los valores atípicos que tiene el conjunto de datos. Se tiene una varianza muy alta 1207.0779147376543 lo que indica que se tiene una desviación estándar también alta y de hecho se pudo comprobar que es de 34.767179, esto indica que los valores están bastante dispersos."
   ]
  },
  {
   "cell_type": "code",
   "execution_count": 61,
   "metadata": {},
   "outputs": [
    {
     "data": {
      "image/png": "[encoded data removed]",
      "text/plain": [
       "<Figure size 432x288 with 1 Axes>"
      ]
     },
     "metadata": {
      "needs_background": "light"
     },
     "output_type": "display_data"
    }
   ],
   "source": [
    "# Traza un diagrama de caja para visualizar la distribución de la cantidad de mensajes mensual.\n",
    "var='plan'\n",
    "grafico_plan= sns.boxplot(x=var, y='messages', data=subconjunto_mensajes)"
   ]
  },
  {
   "cell_type": "markdown",
   "metadata": {},
   "source": [
    "En el diagrama de cajas y bigotes tenemos la distribución de la cantidad de mensajes mensuales por tipo de Plan, para el plan Ultimate el valor Q1 está ubicado cerca de los 5 mensajes, mientras que el Q3 cerca de los 60 mensajes y una mediana ubicada muy cerca de los 30 mensajes y presenta valores atípicos mayores a 140. Para el plan Surf el valor Q1 está ubicado cerca del 0, mientras que el Q3 cerca de los 25 mensajes y una mediana ubicada muy cerca de los 20 mensajes y presenta valores atípicos mayores a 110. "
   ]
  },
  {
   "cell_type": "markdown",
   "metadata": {},
   "source": [
    "De los 500 usuarios tenemos que los usuarios del plan Ultimate tienen un mayor consumo de mensajes que los usuarios delm plan Surf:\n",
    "\n",
    "1- Los clientes con el plan Surf tienen una mediana de 24 mensajes al mes(se toma la mediana como referencia ya que tenemos valores atípicos) y por lo que se puede observar en el histograma que los mayores valores están muy cerca del 0 luego hay una grupo de valores donde se acumula otra gran cantidad de datos que llega hasta los 50 mensajes y apartir de ahí los valores empiezan a caer considerablemte, además hay algunos valores muy altos que se consideran atípicos.\n",
    "\n",
    "2- Para el plan Surf el valor Q1 está ubicado cerca del 0, mientras que el Q3 cerca de los 25 mensajes y presenta valores atípicos mayores a 110. \n",
    "\n",
    "3- Los clientes con el plan Ultimate tienen una mediana de 30 mensajes al mes(se toma la mediana como referencia ya que tenemos valores atípicos) y por lo que se puede observar en el histograma que tenemos el pico mas alto cerca del cero, luego tenemos una cantidad de valores considerables distribuidos hasta los 80 mensajes, teniendo su pico más alto cerca de los 25; luego los valores comienzan a bajar y se pueden ver algunos valores atípicos que pasan los 150 mensajes. \n",
    "\n",
    "4- Para el plan Ultimate el valor Q1 está ubicado cerca de los 5 mensajes, mientras que el Q3 cerca de los 60 mensajes y presenta valores atípicos mayores a 140. "
   ]
  },
  {
   "cell_type": "markdown",
   "metadata": {},
   "source": [
    " "
   ]
  },
  {
   "cell_type": "markdown",
   "metadata": {},
   "source": [
    "### Internet <a id='internet_usuarios'></a>"
   ]
  },
  {
   "cell_type": "code",
   "execution_count": 62,
   "metadata": {},
   "outputs": [
    {
     "data": {
      "image/png": "[encoded data removed]",
      "text/plain": [
       "<Figure size 864x288 with 1 Axes>"
      ]
     },
     "metadata": {
      "needs_background": "light"
     },
     "output_type": "display_data"
    }
   ],
   "source": [
    "# Compara la cantidad de tráfico de internet consumido por usuarios por plan cada mes. \n",
    "subconjunto_internet= usuarios[['month','gb_used','plan']]\n",
    "\n",
    "#Plan Surf\n",
    "subconjunto_internet_1= subconjunto_internet[(subconjunto_internet['plan']=='surf')]\n",
    "subconjunto_internet_surf= subconjunto_internet_1.groupby('month')['gb_used'].mean()\n",
    "subconjunto_internet_surf.plot(kind='bar',title= 'Promedio mensual de GB consumidos plan Surf',grid=True,figsize=(12,4))\n",
    "plt.ylabel('Promedio de GB consumidos')\n",
    "plt.xlabel('Meses del año')\n",
    "plt.show()"
   ]
  },
  {
   "cell_type": "code",
   "execution_count": 63,
   "metadata": {},
   "outputs": [
    {
     "data": {
      "image/png": "[encoded data removed]",
      "text/plain": [
       "<Figure size 864x288 with 1 Axes>"
      ]
     },
     "metadata": {
      "needs_background": "light"
     },
     "output_type": "display_data"
    }
   ],
   "source": [
    "#Plan Ultimate\n",
    "subconjunto_internet_2= subconjunto_internet[(subconjunto_internet['plan']=='ultimate')]\n",
    "subconjunto_internet_ultimate= subconjunto_internet_2.groupby('month')['gb_used'].mean()\n",
    "subconjunto_internet_ultimate.plot(kind='bar',title= 'Promedio mensual de GB consumidos plan Ultimate',grid=True,figsize=(12,4))\n",
    "plt.ylabel('Promedio de GB consumidos')\n",
    "plt.xlabel('Meses del año')\n",
    "plt.show()"
   ]
  },
  {
   "cell_type": "markdown",
   "metadata": {},
   "source": [
    "En un período de 12 meses se puede observar que los usuarios con el Plan Surf tienen un consumo promedio de internet(GB) mayor al plan ultimate en 2 de los meses del año (6-Junio, 7-Julio) El resto de los meses es el Plan Ultimate el que tiene los mayores promedios (1-Enero, 2-Febrero, 3-Marzo, 4-Abril, 5-Mayo, 8-Agosto, 9-Septiembre, 10-Octubre, 11-Noviembre, 12-Diciembre)"
   ]
  },
  {
   "cell_type": "code",
   "execution_count": 64,
   "metadata": {},
   "outputs": [
    {
     "data": {
      "text/plain": [
       "count    1573.000000\n",
       "mean       16.670693\n",
       "std         7.847522\n",
       "min         0.000000\n",
       "25%        12.000000\n",
       "50%        17.000000\n",
       "75%        21.000000\n",
       "max        70.000000\n",
       "Name: internet_surf, dtype: float64"
      ]
     },
     "execution_count": 64,
     "metadata": {},
     "output_type": "execute_result"
    }
   ],
   "source": [
    "# Compara la cantidad de tráfico de internet consumido por usuarios por plan\n",
    "subconjunto_internet= usuarios[['month','gb_used','plan']]\n",
    "internet_surf= subconjunto_internet.query('plan ==\"surf\"')\n",
    "internet_surf.columns= ['month','internet_surf','plan']\n",
    "internet_surf['internet_surf'].describe()"
   ]
  },
  {
   "cell_type": "code",
   "execution_count": 65,
   "metadata": {},
   "outputs": [
    {
     "data": {
      "text/plain": [
       "array([[<AxesSubplot:title={'center':'internet_surf'}>]], dtype=object)"
      ]
     },
     "execution_count": 65,
     "metadata": {},
     "output_type": "execute_result"
    },
    {
     "data": {
      "image/png": "[encoded data removed]",
      "text/plain": [
       "<Figure size 432x288 with 1 Axes>"
      ]
     },
     "metadata": {
      "needs_background": "light"
     },
     "output_type": "display_data"
    }
   ],
   "source": [
    "internet_surf.hist('internet_surf',bins=100)"
   ]
  },
  {
   "cell_type": "markdown",
   "metadata": {},
   "source": [
    "El gráfico contiene la cantidad de GB que los usuarios requieren cada mes del plan Surf, por lo que se puede observar que los mayores valores están cerca de los 20 GB y apartir de ahí los valores empiezan a caer considerablemente además hay algunos valores muy altos que se consideran atípicos. "
   ]
  },
  {
   "cell_type": "code",
   "execution_count": 66,
   "metadata": {},
   "outputs": [
    {
     "data": {
      "text/plain": [
       "count    720.000000\n",
       "mean      17.306944\n",
       "std        7.670108\n",
       "min        0.000000\n",
       "25%       13.000000\n",
       "50%       17.000000\n",
       "75%       21.000000\n",
       "max       46.000000\n",
       "Name: internet_ultimate, dtype: float64"
      ]
     },
     "execution_count": 66,
     "metadata": {},
     "output_type": "execute_result"
    }
   ],
   "source": [
    "# Compara la cantidad de tráfico de internet consumido por usuarios por plan\n",
    "subconjunto_internet= usuarios[['month','gb_used','plan']]\n",
    "internet_ultimate= subconjunto_internet.query('plan ==\"ultimate\"')\n",
    "internet_ultimate.columns= ['month','internet_ultimate','plan']\n",
    "internet_ultimate['internet_ultimate'].describe()"
   ]
  },
  {
   "cell_type": "code",
   "execution_count": 67,
   "metadata": {
    "scrolled": true
   },
   "outputs": [
    {
     "data": {
      "text/plain": [
       "array([[<AxesSubplot:title={'center':'internet_ultimate'}>]], dtype=object)"
      ]
     },
     "execution_count": 67,
     "metadata": {},
     "output_type": "execute_result"
    },
    {
     "data": {
      "image/png": "[encoded data removed]",
      "text/plain": [
       "<Figure size 432x288 with 1 Axes>"
      ]
     },
     "metadata": {
      "needs_background": "light"
     },
     "output_type": "display_data"
    }
   ],
   "source": [
    "internet_ultimate.hist('internet_ultimate',bins=70)"
   ]
  },
  {
   "cell_type": "markdown",
   "metadata": {},
   "source": [
    "El gráfico contiene la cantidad de GB que los usuarios requieren cada mes del plan Ultimate, por lo que se puede observar que tenemos una gráfica con un pico de consumo cercano a los 15 GB y apartir de ahí los valores empiezan a caer considerablemente, además hay unos pocos valores altos que se consideran atípicos. "
   ]
  },
  {
   "cell_type": "code",
   "execution_count": 68,
   "metadata": {},
   "outputs": [
    {
     "name": "stdout",
     "output_type": "stream",
     "text": [
      "Media de la cantidad de tráfico de internet consumido con el PLAN SURF: 16.670692943420217\n",
      "Varianza de la cantidad de tráfico de internet consumido con el PLAN SURF: 61.54444942447023\n"
     ]
    }
   ],
   "source": [
    "# Calcula la media y la varianza de la cantidad de tráfico de internet consumido por usuarios por plan\n",
    "\n",
    "#Plan surf\n",
    "\n",
    "internet_surf_mean= internet_surf['internet_surf'].mean()\n",
    "internet_surf_variance= np.var(internet_surf['internet_surf'])\n",
    "print((f'Media de la cantidad de tráfico de internet consumido con el PLAN SURF: {internet_surf_mean}'))\n",
    "print((f'Varianza de la cantidad de tráfico de internet consumido con el PLAN SURF: {internet_surf_variance}'))\n"
   ]
  },
  {
   "cell_type": "markdown",
   "metadata": {},
   "source": [
    "El promedio de GB utilizados por los clientes del plan Surf es de 16.670692943420217 este se ve afectado por los valores atípicos que tiene el conjunto de datos. Se tiene una varianza alta 61.54444942447023 lo que indica que se tiene una desviación estándar también alta y de hecho se pudo comprobar que es de 7.847522, esto indica que los valores están dispersos. "
   ]
  },
  {
   "cell_type": "code",
   "execution_count": 69,
   "metadata": {},
   "outputs": [
    {
     "name": "stdout",
     "output_type": "stream",
     "text": [
      "Media de la cantidad de tráfico de internet consumido con el PLAN ULTIMATEF: 17.306944444444444\n",
      "Varianza de la cantidad de tráfico de internet consumido con el PLAN ULTIMATE: 58.748840663580246\n"
     ]
    }
   ],
   "source": [
    "#Plan ultimate\n",
    "\n",
    "internet_ultimate_mean= internet_ultimate['internet_ultimate'].mean()\n",
    "internet_ultimate_variance= np.var(internet_ultimate['internet_ultimate'])\n",
    "print((f'Media de la cantidad de tráfico de internet consumido con el PLAN ULTIMATEF: {internet_ultimate_mean}'))\n",
    "print((f'Varianza de la cantidad de tráfico de internet consumido con el PLAN ULTIMATE: {internet_ultimate_variance}'))\n"
   ]
  },
  {
   "cell_type": "markdown",
   "metadata": {},
   "source": [
    "El promedio de GB utilizados por los clientes del plan Ultimate es de 17.306944444444444. Se tiene una varianza alta 58.748840663580246 lo que indica que se tiene una desviación estándar también alta y de hecho se pudo comprobar que es de 7.670108, esto indica que los valores están dispersos. "
   ]
  },
  {
   "cell_type": "code",
   "execution_count": 70,
   "metadata": {},
   "outputs": [
    {
     "data": {
      "image/png": "[encoded data removed]",
      "text/plain": [
       "<Figure size 432x288 with 1 Axes>"
      ]
     },
     "metadata": {
      "needs_background": "light"
     },
     "output_type": "display_data"
    }
   ],
   "source": [
    "# Traza un diagrama de caja para visualizar la distribución de cantidad de tráfico de internet consumido por usuarios por plan\n",
    "var='plan'\n",
    "subconjunto_internet= usuarios[['month','gb_used','plan']]\n",
    "grafico_plan= sns.boxplot(x=var, y='gb_used', data=subconjunto_internet)"
   ]
  },
  {
   "cell_type": "markdown",
   "metadata": {},
   "source": [
    "En el diagrama de cajas y bigotes tenemos la distribución de la cantidad de tráfico de internet consumido por tipo de Plan, para el plan Ultimate el valor Q1 está ubicado cerca de los 13 GB, mientras que el Q3 cerca de los 20 GB y una mediana superior a los 15 GB y presenta valores atípicos mayores a 30. Para el plan Surf el valor Q1 está ubicado cerca de los 12 GB, mientras que el Q3 cerca de los 20 GB y una mediana superior a los 15 GB y presenta valores atípicos mayores a 30."
   ]
  },
  {
   "cell_type": "markdown",
   "metadata": {},
   "source": [
    "De los 500 usuarios tenemos comportamientos bastantes parecidos entre ambos planes:\n",
    "\n",
    "1- Los clientes con el plan Surf tienen una mediana de 17 GB al mes(se toma la mediana como referencia ya que tenemos valores atípicos) y por lo que se puede observar en el histograma que los mayores valores están cerca de los 20 GB y apartir de ahí los valores empiezan a caer considerablemente además hay algunos valores muy altos que se consideran atípicos. \n",
    "\n",
    "2- Para el plan Surf el valor Q1 está ubicado cerca de los 12 GB, mientras que el Q3 cerca de los 20 GB y presenta valores atípicos mayores a 30.\n",
    "\n",
    "3- Los clientes con el plan Ultimate tienen una mediana de 17 GB al mes(se toma la mediana como referencia ya que tenemos valores atípicos pero en este caso es valor es igual a la media) y por lo que se puede observar en el histograma que tenemos una gráfica con un pico de consumo cercano a los 15 GB y apartir de ahí los valores empiezan a caer considerablemente, además hay unos pocos valores altos que se consideran atípicos. \n",
    "\n",
    "4- Para el plan Ultimate el valor Q1 está ubicado cerca de los 13 GB, mientras que el Q3 cerca de los 20 GB y presenta valores atípicos mayores a 30."
   ]
  },
  {
   "cell_type": "markdown",
   "metadata": {},
   "source": [
    " "
   ]
  },
  {
   "cell_type": "markdown",
   "metadata": {},
   "source": [
    "## Ingreso <a id='descripcion'></a>"
   ]
  },
  {
   "cell_type": "code",
   "execution_count": 71,
   "metadata": {},
   "outputs": [
    {
     "data": {
      "image/png": "[encoded data removed]",
      "text/plain": [
       "<Figure size 864x288 with 1 Axes>"
      ]
     },
     "metadata": {
      "needs_background": "light"
     },
     "output_type": "display_data"
    }
   ],
   "source": [
    "#Compara el promedio de ingresos por cada plan por cada mes. Dibuja una gráfica de barras para visualizarlo.\n",
    "\n",
    "subconjunto_ingresos= usuarios[['month','total_mes','plan']]\n",
    "\n",
    "#Plan Surf\n",
    "subconjunto_ingresos_1= subconjunto_ingresos[(subconjunto_ingresos['plan']=='surf')]\n",
    "subconjunto_ingresos_surf= subconjunto_ingresos_1.groupby('month')['total_mes'].mean()\n",
    "subconjunto_ingresos_surf.plot(kind='bar',title= 'Promedio mensual de ingresos usuarios plan Surf',\n",
    "                               grid=True,figsize=(12,4))\n",
    "plt.ylabel('Promedio de ingresos')\n",
    "plt.xlabel('Meses del año')\n",
    "plt.show()"
   ]
  },
  {
   "cell_type": "code",
   "execution_count": 72,
   "metadata": {},
   "outputs": [
    {
     "data": {
      "image/png": "[encoded data removed]",
      "text/plain": [
       "<Figure size 864x288 with 1 Axes>"
      ]
     },
     "metadata": {
      "needs_background": "light"
     },
     "output_type": "display_data"
    }
   ],
   "source": [
    "#Plan Ultimate\n",
    "subconjunto_ingresos_2= subconjunto_ingresos[(subconjunto_ingresos['plan']=='ultimate')]\n",
    "subconjunto_ingresos_ultimate= subconjunto_ingresos_2.groupby('month')['total_mes'].mean()\n",
    "subconjunto_ingresos_ultimate.plot(kind='bar',title= 'Promedio mensual de ingresos usuarios plan Ultimate',\n",
    "                                   grid=True,figsize=(12,4))\n",
    "plt.ylabel('Promedio de ingresos')\n",
    "plt.xlabel('Meses del año')\n",
    "plt.show()"
   ]
  },
  {
   "cell_type": "markdown",
   "metadata": {},
   "source": [
    "En un período de 12 meses se puede observar que los ingresos con el Plan Ultimate superan en promedio en todos los meses a los del plan surf. (1-Enero, 2-Febrero, 3-Marzo, 4-Abril, 5-Mayo, 6-Junio, 7-Julio, 8-Agosto, 9-Septiembre, 10-Octubre, 11-Noviembre, 12-Diciembre)"
   ]
  },
  {
   "cell_type": "code",
   "execution_count": 73,
   "metadata": {},
   "outputs": [
    {
     "data": {
      "text/plain": [
       "count    1573.000000\n",
       "mean       60.706408\n",
       "std        55.388042\n",
       "min        20.000000\n",
       "25%        20.000000\n",
       "50%        40.360000\n",
       "75%        80.360000\n",
       "max       590.370000\n",
       "Name: ingresos_surf, dtype: float64"
      ]
     },
     "execution_count": 73,
     "metadata": {},
     "output_type": "execute_result"
    }
   ],
   "source": [
    "# Compara la cantidad ingresos por cada plan por cada mes. \n",
    "\n",
    "subconjunto_ingresos= usuarios[['month','total_mes','plan']]\n",
    "ingresos_surf= subconjunto_ingresos.query('plan ==\"surf\"')\n",
    "ingresos_surf.columns= ['month','ingresos_surf','plan']\n",
    "ingresos_surf['ingresos_surf'].describe()"
   ]
  },
  {
   "cell_type": "code",
   "execution_count": 74,
   "metadata": {},
   "outputs": [
    {
     "data": {
      "text/plain": [
       "array([[<AxesSubplot:title={'center':'ingresos_surf'}>]], dtype=object)"
      ]
     },
     "execution_count": 74,
     "metadata": {},
     "output_type": "execute_result"
    },
    {
     "data": {
      "image/png": "[encoded data removed]",
      "text/plain": [
       "<Figure size 432x288 with 1 Axes>"
      ]
     },
     "metadata": {
      "needs_background": "light"
     },
     "output_type": "display_data"
    }
   ],
   "source": [
    "ingresos_surf.hist('ingresos_surf',bins=50)"
   ]
  },
  {
   "cell_type": "markdown",
   "metadata": {},
   "source": [
    "El gráfico contiene la cantidad de ingresos que provienen de los usuarios del plan Surf, por lo que se puede observar que los mayores valores están cercanos al 20 y luego  a partir del 100 disminuyen aún más. Además hay algunos valores muy altos que se consideran atípicos."
   ]
  },
  {
   "cell_type": "code",
   "execution_count": 75,
   "metadata": {},
   "outputs": [
    {
     "data": {
      "text/plain": [
       "count    720.000000\n",
       "mean      72.313889\n",
       "std       11.395108\n",
       "min       70.000000\n",
       "25%       70.000000\n",
       "50%       70.000000\n",
       "75%       70.000000\n",
       "max      182.000000\n",
       "Name: ingresos_ultimate, dtype: float64"
      ]
     },
     "execution_count": 75,
     "metadata": {},
     "output_type": "execute_result"
    }
   ],
   "source": [
    "subconjunto_ingresos= usuarios[['month','total_mes','plan']]\n",
    "ingresos_ultimate= subconjunto_ingresos.query('plan ==\"ultimate\"')\n",
    "ingresos_ultimate.columns= ['month','ingresos_ultimate','plan']\n",
    "ingresos_ultimate['ingresos_ultimate'].describe()"
   ]
  },
  {
   "cell_type": "code",
   "execution_count": 76,
   "metadata": {},
   "outputs": [
    {
     "data": {
      "text/plain": [
       "array([[<AxesSubplot:title={'center':'ingresos_ultimate'}>]], dtype=object)"
      ]
     },
     "execution_count": 76,
     "metadata": {},
     "output_type": "execute_result"
    },
    {
     "data": {
      "image/png": "[encoded data removed]",
      "text/plain": [
       "<Figure size 432x288 with 1 Axes>"
      ]
     },
     "metadata": {
      "needs_background": "light"
     },
     "output_type": "display_data"
    }
   ],
   "source": [
    "ingresos_ultimate.hist('ingresos_ultimate',bins=30)"
   ]
  },
  {
   "cell_type": "markdown",
   "metadata": {},
   "source": [
    "El gráfico contiene la cantidad de ingresos que provienen de los usuarios del plan Ultimate, por lo que se puede observar que los mayores valores están cercanos al 40 y luego hay unos pocos valores distribuidos por el eje X. Además hay algunos valores muy altos que se consideran atípicos."
   ]
  },
  {
   "cell_type": "code",
   "execution_count": 77,
   "metadata": {},
   "outputs": [
    {
     "name": "stdout",
     "output_type": "stream",
     "text": [
      "Media de la cantidad ingresos por cada plan por mes con el PLAN SURF: 60.706408137317226\n",
      "Varianza de la cantidad cantidad ingresos por cada plan por mes con el PLAN SURF: 3065.8848438690247\n"
     ]
    }
   ],
   "source": [
    "# Calcula la media y la varianza de la cantidad ingresos por cada plan por mes. \n",
    "\n",
    "#Plan surf\n",
    "\n",
    "ingresos_surf_mean= ingresos_surf['ingresos_surf'].mean()\n",
    "ingresos_surf_variance= np.var(ingresos_surf['ingresos_surf'])\n",
    "print((f'Media de la cantidad ingresos por cada plan por mes con el PLAN SURF: {ingresos_surf_mean}'))\n",
    "print((f'Varianza de la cantidad cantidad ingresos por cada plan por mes con el PLAN SURF: {ingresos_surf_variance}'))\n"
   ]
  },
  {
   "cell_type": "markdown",
   "metadata": {},
   "source": [
    "El promedio de ingresos por cliente del plan Surf es de 60.706408137317226, este se ve afectada por los valores atípicos que tiene el conjunto de datos. Se tiene una varianza alta 3065.8848438690247 lo que indica que se tiene una desviación estándar también alta y de hecho se pudo comprobar que es de 55.388042, esto indica que tenemos valores dispersos. "
   ]
  },
  {
   "cell_type": "code",
   "execution_count": 78,
   "metadata": {},
   "outputs": [
    {
     "name": "stdout",
     "output_type": "stream",
     "text": [
      "Media de la cantidad ingresos por cada plan por mes con el PLAN ULTIMATE: 72.31388888888888\n",
      "Varianza de la cantidad cantidad ingresos por cada plan por mes con el PLAN ULTIMATE: 129.66814043209877\n"
     ]
    }
   ],
   "source": [
    "#Plan ultimate\n",
    "\n",
    "ingresos_ultimate_mean= ingresos_ultimate['ingresos_ultimate'].mean()\n",
    "ingresos_ultimate_variance= np.var(ingresos_ultimate['ingresos_ultimate'])\n",
    "print((f'Media de la cantidad ingresos por cada plan por mes con el PLAN ULTIMATE: {ingresos_ultimate_mean}'))\n",
    "print((f'Varianza de la cantidad cantidad ingresos por cada plan por mes con el PLAN ULTIMATE: {ingresos_ultimate_variance}'))"
   ]
  },
  {
   "cell_type": "markdown",
   "metadata": {},
   "source": [
    "El promedio de ingresos por cliente del plan Ultimate es de 72.31388888888888, este se ve afectada por los valores atípicos que tiene el conjunto de datos. Se tiene una varianza alta 129.66814043209877 lo que indica que se tiene una desviación estándar también alta y de hecho se pudo comprobar que es de 11.395108, esto indica que tenemos valores dispersos. "
   ]
  },
  {
   "cell_type": "code",
   "execution_count": 79,
   "metadata": {},
   "outputs": [
    {
     "data": {
      "image/png": "[encoded data removed]",
      "text/plain": [
       "<Figure size 432x288 with 1 Axes>"
      ]
     },
     "metadata": {
      "needs_background": "light"
     },
     "output_type": "display_data"
    }
   ],
   "source": [
    "# Traza un diagrama de caja para visualizar la distribución de de la cantidad ingresos por cada plan por mes\n",
    "var='plan'\n",
    "subconjunto_ingresos= usuarios[['month','total_mes','plan']]\n",
    "grafico_plan= sns.boxplot(x=var, y='total_mes', data=subconjunto_ingresos)"
   ]
  },
  {
   "cell_type": "markdown",
   "metadata": {},
   "source": [
    "En el diagrama de cajas y bigotes tenemos la distribución de la cantidad de ingresos por tipo de Plan, para el plan Ultimate el valor Q1 está ubicado cerca de 70 , mientras que el Q3 también en 70 y presenta valores atípicos que son todos aquellos diferentes a 70. Para el plan Surf el valor Q1 está ubicado cerca del 20, mientras que el Q3 cerca de los 80 y presenta valores atípicos mayores a 150."
   ]
  },
  {
   "cell_type": "markdown",
   "metadata": {},
   "source": [
    "De los dos planes disponibles tenemos que el plan Ultimaste tiene un mayor ingreso que el plan Surf:\n",
    "\n",
    "1- Los clientes con el plan Surf los usuarios tienen una mediana de ingresos de 40.360000 al mes(se toma la mediana como referencia ya que tenemos valores atípicos) y por lo que se puede observar que los mayores valores están cercanos al 20 y luego a partir del 100 disminuyen aún más. Además hay algunos valores muy altos que se consideran atípicos.\n",
    "\n",
    "2- Para el plan Surf el valor Q1 está ubicado cerca del 20, mientras que el Q3 cerca de los 80 y presenta valores atípicos mayores a 150.\n",
    "\n",
    "3- Los clientes con el plan Ultimate tienen una mediana de 70.000000 al mes(se toma la mediana como referencia ya que tenemos valores atípicos) y por lo que se puede observar en el histograma que los mayores valores están cercanos al 40 y luego hay unos pocos valores distribuidos por el eje X. Además hay algunos valores muy altos que se consideran atípicos.\n",
    "\n",
    "4- Para el plan Ultimate el valor Q1 está ubicado cerca de 70 , mientras que el Q3 también en 70 y presenta valores atípicos que son todos aquellos diferentes a 70"
   ]
  },
  {
   "cell_type": "markdown",
   "metadata": {},
   "source": [
    " "
   ]
  },
  {
   "cell_type": "markdown",
   "metadata": {},
   "source": [
    "## Probar las hipótesis estadísticas. <a id='hipotesis'></a>"
   ]
  },
  {
   "cell_type": "markdown",
   "metadata": {},
   "source": [
    "**Hipótesis 1**\n",
    "\n",
    "- H0: no hay diferencia entre los ingresos promedios de los usuarios de los planes de llamada Ultimate y Surf\n",
    "- Ha: si hay diferencia entre los ingresos promedios de los usuarios de los planes de llamada Ultimate y Surf\n",
    "- alpha = 0.05 nivel crítico de significación estadística"
   ]
  },
  {
   "cell_type": "code",
   "execution_count": 80,
   "metadata": {},
   "outputs": [
    {
     "name": "stdout",
     "output_type": "stream",
     "text": [
      "p-value:  3.17039054811355e-15\n",
      "Rechazamos la hipótesis nula\n"
     ]
    }
   ],
   "source": [
    "# Prueba las hipótesis\n",
    "subconjunto_ingresos_hip= usuarios[['total_mes','plan']]\n",
    "hip_ingresos_surf= subconjunto_ingresos_hip.query('plan ==\"surf\"')\n",
    "hip_ingresos_surf=hip_ingresos_surf['total_mes']\n",
    "hip_ingresos_ultimate= subconjunto_ingresos_hip.query('plan ==\"ultimate\"')\n",
    "hip_ingresos_ultimate=hip_ingresos_ultimate['total_mes']\n",
    "\n",
    "alpha = 0.05\n",
    "\n",
    "results = st.ttest_ind(hip_ingresos_surf, hip_ingresos_ultimate, equal_var= False)\n",
    "\n",
    "print('p-value: ', results.pvalue)\n",
    "\n",
    "if results.pvalue < alpha:\n",
    "    print(\"Rechazamos la hipótesis nula\")\n",
    "else:\n",
    "    print(\"No rechazamos la hipótesis nula\") \n"
   ]
  },
  {
   "cell_type": "markdown",
   "metadata": {},
   "source": [
    "Los datos proporcionan evidencia suficiente, dado el nivel de significación que seleccionamos, para rechazar la hipótesis nula. Por lo tanto, podemos concluir que hay diferencia entre los ingresos promedios de los usuarios de los planes de llamada Ultimate y Surf. "
   ]
  },
  {
   "cell_type": "markdown",
   "metadata": {},
   "source": [
    "**Hipótesis 2**\n",
    "\n",
    "- H0: El ingreso promedio de los usuarios del área NY-NJ no es diferente al de los usuarios de otras regiones\n",
    "- Ha: El ingreso promedio de los usuarios del área NY-NJ es diferente al de los usuarios de otras regiones\n",
    "- alpha = 0.05 nivel crítico de significación estadística"
   ]
  },
  {
   "cell_type": "code",
   "execution_count": 81,
   "metadata": {},
   "outputs": [
    {
     "name": "stdout",
     "output_type": "stream",
     "text": [
      "p-value:  0.033525615885300314\n",
      "Rechazamos la hipótesis nula\n"
     ]
    }
   ],
   "source": [
    "# Prueba las hipótesis\n",
    "\n",
    "#usuarios que viven en el área 'NY-NJ'\n",
    "usuarios_city=users[users[\"city\"].apply(lambda x: 'NY-NJ'in x)]\n",
    "sub_usuarios_city= usuarios_city[['user_id','city']]\n",
    "sub_usuarios_ingresos=usuarios[['user_id','total_mes']]\n",
    "tabla_usuarios_city= pd.merge(sub_usuarios_ingresos, sub_usuarios_city, on='user_id')\n",
    "tabla_usuarios_city=tabla_usuarios_city['total_mes']\n",
    "\n",
    "#usuarios que  no viven en el área 'NY-NJ'\n",
    "usuarios_city_2=users[users[\"city\"].apply(lambda x: 'NY-NJ' not in x)]\n",
    "sub_usuarios_city_2= usuarios_city_2[['user_id','city']]\n",
    "sub_usuarios_ingresos_2=usuarios[['user_id','total_mes']]\n",
    "tabla_usuarios_city_2= pd.merge(sub_usuarios_ingresos_2, sub_usuarios_city_2, on='user_id')\n",
    "tabla_usuarios_city_2=tabla_usuarios_city_2['total_mes']\n",
    "\n",
    "alpha = 0.05\n",
    "\n",
    "results = st.ttest_ind(tabla_usuarios_city, tabla_usuarios_city_2, equal_var= False)\n",
    "\n",
    "print('p-value: ', results.pvalue)\n",
    "\n",
    "if results.pvalue < alpha:\n",
    "    print(\"Rechazamos la hipótesis nula\")\n",
    "else:\n",
    "    print(\"No rechazamos la hipótesis nula\") \n"
   ]
  },
  {
   "cell_type": "markdown",
   "metadata": {},
   "source": [
    "Los datos proporcionan evidencia suficiente, dado el nivel de significación que seleccionamos, para rechazar la hipótesis nula. Por lo tanto, podemos concluir que hay diferencia entre los ingresos promedios de los usuarios del área NY-NJ y el resto de lugares del país."
   ]
  },
  {
   "cell_type": "markdown",
   "metadata": {},
   "source": [
    "## Conclusión general <a id='general'></a>"
   ]
  },
  {
   "cell_type": "markdown",
   "metadata": {},
   "source": [
    " El estudio se basó en el analisis de 5 Datasets: plans, users, calls, messages, internet; en líneas generales el conjunto de datos no tenía una gran cantidad de valores problemáticos que debieron ser solventados.\n",
    " \n",
    " La tabla users tenía valores ausentes en la columna churn_date estos no se reemplazaron ya que se podía intuir que los clientes que tenían valores nulos es porque eran usuarios activos al momento de la toma de la muestra, además de cambiaron los tipos de datos de las columnas 'reg_date' y 'churn_date' al tipo datetime y por ultimo se agregó la columna situación donde se especifica si el cliente está activo o no, esta puede ser útil para posteriores análisis. \n",
    " \n",
    " La tabla calls no tenía valores ausentes y solo se cambió el tipo de dato de la columna call_date al tipo Datetime, la duración se redondeó hacia arriba ya que la compañía redondea los segundos a minutos, está columna también cambió su tipo de dato a int y por último se agregó la columna month para enriquecer los datos y utilizarla para un posterior análisis. \n",
    " \n",
    " La tabla messages no tenía valores ausentes, solo se cambió el tipo de dato de la columna message_date al tipo Datetime y se agregó la columna month para enriquecer los datos y utilizarla para un posterior análisis.\n",
    " \n",
    " La tabla internet no tenía valores ausentes, se cambió tipo de dato de la columna session_date al tipo Datetime y se agregó la columna month para enriquecer los datos y utilizarla para un posterior análisis.\n",
    " \n",
    " Se procedió a crear una nueva tabla que contiene todos los datos de los usuarios por mes, la tabla final contiene las siguientes columnas:user_id, month, calls, duration, messages, gb_used, plan, usd_monthly_pay, minutos_incluidos, mensajes_incluidos, gb_incluidos, dif_minutos, dif_mensajes, dif_gb, recargo_minutos, recargo_mensajes, recargo_gb, total_mes. \n",
    " \n",
    " **Luego del análisis de los datos se puede concluir lo siguiente:**\n",
    " \n",
    "**De los 500 usuarios tenemos comportamientos bastantes parecidos en cuanto a las llamadas entre ambos planes ya que:**\n",
    "\n",
    "1- En un período de 12 meses se puede observar que los usuarios con el Plan Surf tienen una duración promedio mayor al plan ultimate en 6 de los meses del año (1-Enero, 3-Marzo, 4-Abril, 6-Junio, 7-Julio, 12-Diciembre) El resto de los meses es el Plan Ultimate el que tiene los mayores promedios (2-Febrero, 5-Mayo, 8-Agosto, 9-Septiembre, 10-Octubre, 11-Noviembre).\n",
    "\n",
    "2- Los clientes con el plan Surf tienen una mediana de 425 minutos al mes(se toma la mediana como referencia ya que tenemos valores atípicos) y  por lo que se puede observar tenemos un pico considerable muy cerca del 0, otro cerca de los 200 minutos y la mayor cantidad está concentrada entre los 300 y 500 minutos y apartir de ahí los valores empiezan a caer.\n",
    "\n",
    "3- Los clientes con el plan Ultimate tienen una mediana de 424 minutos al mes(se toma la mediana como referencia ya que tenemos valores atípicos) y por lo que se puede observar que los mayores valores están muy cerca de los 400 minutos pero inmediatamente empiezan a caer considerablemente\n",
    "\n",
    "4- Para el plan Surf el valor Q1 está ubicado cerca de los 280 minutos, mientras que el Q3 cerca de los 580 minutos, presenta valores atípicos mayores a 1000. \n",
    "\n",
    "5- Para el plan Ultimate el valor Q1 está ubicado cerca de los 260 minutos, mientras que el Q3 cerca de los 580 minutos, presenta valores atípicos mayores a 1000.\n",
    " \n",
    "\n",
    "**De los 500 usuarios tenemos que los usuarios del plan Ultimate tienen un mayor consumo de mensajes que los plan Surf ya que:**\n",
    "\n",
    "1- En un período de 12 meses se puede observar que en todos los meses (1-Enero, 2-Febrero, 3-Marzo, 4-Abril, 5-Mayo, 6-Junio, 7-Julio 8-Agosto, 9-Septiembre, 10-Octubre, 11-Noviembre, 12-Diciembre) los usuarios del Plan Ultimate envían más mensajes que los del plan Surf ya que tiene los mayores promedios.\n",
    " \n",
    "2- Los clientes con el plan Surf tienen una mediana de 24 mensajes al mes(se toma la mediana como referencia ya que tenemos valores atípicos) y por lo que se puede observar en el histograma que los mayores valores están muy cerca del 0 luego hay una grupo de valores donde se acumula otra gran cantidad de datos que llega hasta los 50 mensajes y apartir de ahí los valores empiezan a caer considerablemte.\n",
    "\n",
    "3- Los clientes con el plan Ultimate tienen una mediana de 30 mensajes al mes(se toma la mediana como referencia ya que tenemos valores atípicos) y por lo que se puede observar en el histograma que tenemos el pico mas alto cerca del cero, luego tenemos una cantidad de valores considerables distribuidos hasta los 80 mensajes, teniendo su pico más alto cerca de los 25; luego los valores comienzan a bajar y se pueden ver algunos valores atípicos que pasan los 150 mensajes. \n",
    "\n",
    "4- Para el plan Surf el valor Q1 está ubicado cerca del 0, mientras que el Q3 cerca de los 25 mensajes y presenta valores atípicos mayores a 110.\n",
    "\n",
    "5- Para el plan Ultimate el valor Q1 está ubicado cerca de los 5 mensajes, mientras que el Q3 cerca de los 60 mensajes y presenta valores atípicos mayores a 140. \n",
    "\n",
    "**De los 500 usuarios tenemos comportamientos bastantes parecidos en el consumo de internet entre ambos planes:**\n",
    "\n",
    "1- En un período de 12 meses se puede observar que los usuarios con el Plan Surf tienen un consumo promedio de internet(GB) mayor al plan ultimate en 2 de los meses del año (6-Junio, 7-Julio) El resto de los meses es el Plan Ultimate el que tiene los mayores promedios (1-Enero, 2-Febrero, 3-Marzo, 4-Abril, 5-Mayo, 8-Agosto, 9-Septiembre, 10-Octubre, 11-Noviembre, 12-Diciembre).\n",
    "\n",
    "2- Los clientes con el plan Surf tienen una mediana de 17 GB al mes(se toma la mediana como referencia ya que tenemos valores atípicos) y por lo que se puede observar en el histograma que los mayores valores están cerca de los 20 GB y apartir de ahí los valores empiezan a caer considerablemente. \n",
    "\n",
    "3- Los clientes con el plan Ultimate tienen una mediana de 17 GB al mes(se toma la mediana como referencia ya que tenemos valores atípicos pero en este caso es valor es igual a la media) y por lo que se puede observar en el histograma que tenemos una gráfica con un pico de consumo cercano a los 15 GB y apartir de ahí los valores empiezan a caer considerablemente, además hay unos pocos valores altos que se consideran atípicos.\n",
    "\n",
    "4- Para el plan Surf el valor Q1 está ubicado cerca de los 12 GB, mientras que el Q3 cerca de los 20 GB y presenta valores atípicos mayores a 30.\n",
    "\n",
    "5- Para el plan Ultimate el valor Q1 está ubicado cerca de los 13 GB, mientras que el Q3 cerca de los 20 GB y presenta valores atípicos mayores a 30. \n",
    "\n",
    "**De los dos planes disponibles tenemos que el plan Surf tiene un mayor ingreso que el plan Ultimate:**\n",
    "\n",
    "1- En un período de 12 meses se puede observar que los ingresos con el Plan Ultimate superan en promedio en todos los meses a los del plan surf. (1-Enero, 2-Febrero, 3-Marzo, 4-Abril, 5-Mayo, 6-Junio, 7-Julio, 8-Agosto, 9-Septiembre, 10-Octubre, 11-Noviembre, 12-Diciembre)\n",
    "\n",
    "2- Los clientes con el plan Surf los usuarios tienen una mediana de ingresos de 40.360000 al mes(se toma la mediana como referencia ya que tenemos valores atípicos) y por lo que se puede observar que los mayores valores están cercanos al 20 y luego a partir del 100 disminuyen aún más.\n",
    "\n",
    "3- Los clientes con el plan Ultimate tienen una mediana de 70.000000 al mes(se toma la mediana como referencia ya que tenemos valores atípicos) y por lo que se puede observar en el histograma que los mayores valores están cercanos al 40 y luego hay unos pocos valores distribuidos por el eje X. \n",
    "\n",
    "4- Para el plan Surf el valor Q1 está ubicado cerca del 20, mientras que el Q3 cerca de los 80 y presenta valores atípicos mayores a 150.\n",
    "\n",
    "5- Para el plan Ultimate el valor Q1 está ubicado cerca de 70 , mientras que el Q3 también en 70 y presenta valores atípicos que son todos aquellos diferentes a 70.\n",
    "\n",
    "**Se formularon las siguientes hipótesis estadísticas:**\n",
    "\n",
    "1-  - H0: no hay diferencia entre los ingresos promedios de los usuarios de los planes de llamada Ultimate y Surf.\n",
    "    - Ha: si hay diferencia entre los ingresos promedios de los usuarios de los planes de llamada Ultimate y Surf.\n",
    "    - alpha = 0.05 nivel crítico de significación estadística.\n",
    "\n",
    "Se realizó la prueba T-TEST con el método scipy.stats.ttest_ind(array1, array2, equal_var) paara probar la hipótesis de que las medias de dos poblaciones estadísticas son iguales según las muestras tomadas de ellas. \n",
    "\n",
    "Y se concluyó lo siguiente:\n",
    "\n",
    "Los datos proporcionan evidencia suficiente, dado el nivel de significación que seleccionamos, para rechazar la hipótesis nula. Por lo tanto, podemos concluir que hay diferencia entre los ingresos promedios de los usuarios de los planes de llamada Ultimate y Surf.\n",
    "\n",
    "2-  - H0: El ingreso promedio de los usuarios del área NY-NJ no es diferente al de los usuarios de otras regiones\n",
    "    - Ha: El ingreso promedio de los usuarios del área NY-NJ es diferente al de los usuarios de otras regiones\n",
    "    - alpha = 0.05 nivel crítico de significación estadística.\n",
    "    \n",
    "Se realizó la prueba T-TEST con el método scipy.stats.ttest_ind(array1, array2, equal_var) paara probar la hipótesis de que las medias de dos poblaciones estadísticas son iguales según las muestras tomadas de ellas.\n",
    "\n",
    "Y se concluyó lo siguiente:\n",
    "\n",
    "Los datos proporcionan evidencia suficiente, dado el nivel de significación que seleccionamos, para rechazar la hipótesis nula. Por lo tanto, podemos concluir que hay diferencia entre los ingresos promedios de los usuarios del área NY-NJ y el resto de lugares del país.\n",
    "\n"
   ]
  }
 ],
 "metadata": {
  "ExecuteTimeLog": [
   {
    "duration": 828,
    "start_time": "2021-11-16T09:21:11.304Z"
   },
   {
    "duration": 893,
    "start_time": "2021-11-16T09:21:17.728Z"
   },
   {
    "duration": 1150,
    "start_time": "2021-11-16T09:21:29.568Z"
   },
   {
    "duration": 3,
    "start_time": "2021-11-16T09:24:14.495Z"
   },
   {
    "duration": 120,
    "start_time": "2021-11-16T09:24:46.630Z"
   },
   {
    "duration": 3,
    "start_time": "2021-11-16T09:28:27.882Z"
   },
   {
    "duration": 4,
    "start_time": "2021-11-16T09:29:54.281Z"
   },
   {
    "duration": 3,
    "start_time": "2021-11-16T09:30:45.936Z"
   },
   {
    "duration": 4,
    "start_time": "2021-11-16T09:31:06.300Z"
   },
   {
    "duration": 113,
    "start_time": "2021-11-16T09:31:37.208Z"
   },
   {
    "duration": 143,
    "start_time": "2021-11-16T09:31:48.656Z"
   },
   {
    "duration": 98,
    "start_time": "2021-11-16T09:31:55.678Z"
   },
   {
    "duration": 3,
    "start_time": "2021-11-16T09:32:08.535Z"
   },
   {
    "duration": 111,
    "start_time": "2021-11-16T09:32:10.120Z"
   },
   {
    "duration": 3,
    "start_time": "2021-11-16T09:32:15.732Z"
   },
   {
    "duration": 4,
    "start_time": "2021-11-16T09:32:29.423Z"
   },
   {
    "duration": 3,
    "start_time": "2021-11-16T10:03:03.074Z"
   },
   {
    "duration": 3,
    "start_time": "2021-11-16T10:10:01.288Z"
   },
   {
    "duration": 3,
    "start_time": "2021-11-16T10:10:46.923Z"
   },
   {
    "duration": 121,
    "start_time": "2021-11-16T10:37:46.494Z"
   },
   {
    "duration": 125,
    "start_time": "2021-11-16T10:38:20.632Z"
   },
   {
    "duration": 112,
    "start_time": "2021-11-16T10:46:53.001Z"
   },
   {
    "duration": 110,
    "start_time": "2021-11-16T10:48:25.775Z"
   },
   {
    "duration": 3,
    "start_time": "2021-11-16T10:50:18.720Z"
   },
   {
    "duration": 4,
    "start_time": "2021-11-16T10:50:37.649Z"
   },
   {
    "duration": 2,
    "start_time": "2021-11-16T10:50:51.884Z"
   },
   {
    "duration": 3,
    "start_time": "2021-11-16T10:51:56.237Z"
   },
   {
    "duration": 101,
    "start_time": "2021-11-16T10:53:13.791Z"
   },
   {
    "duration": 3,
    "start_time": "2021-11-16T10:55:59.186Z"
   },
   {
    "duration": 3,
    "start_time": "2021-11-16T10:56:10.751Z"
   },
   {
    "duration": 3,
    "start_time": "2021-11-16T10:56:49.038Z"
   },
   {
    "duration": 3,
    "start_time": "2021-11-16T10:56:49.174Z"
   },
   {
    "duration": 4,
    "start_time": "2021-11-16T10:56:49.414Z"
   },
   {
    "duration": 3,
    "start_time": "2021-11-16T10:56:49.680Z"
   },
   {
    "duration": 3,
    "start_time": "2021-11-16T10:56:50.370Z"
   },
   {
    "duration": 114,
    "start_time": "2021-11-16T10:59:34.518Z"
   },
   {
    "duration": 3,
    "start_time": "2021-11-16T11:01:41.201Z"
   },
   {
    "duration": 116,
    "start_time": "2021-11-16T11:01:48.754Z"
   },
   {
    "duration": 3,
    "start_time": "2021-11-16T11:02:16.685Z"
   },
   {
    "duration": 3,
    "start_time": "2021-11-16T11:02:19.479Z"
   },
   {
    "duration": 3,
    "start_time": "2021-11-16T11:02:47.067Z"
   },
   {
    "duration": 3,
    "start_time": "2021-11-16T11:02:49.353Z"
   },
   {
    "duration": 3,
    "start_time": "2021-11-16T11:03:07.835Z"
   },
   {
    "duration": 3,
    "start_time": "2021-11-16T11:03:07.953Z"
   },
   {
    "duration": 112,
    "start_time": "2021-11-16T11:07:52.072Z"
   },
   {
    "duration": 187,
    "start_time": "2021-11-16T11:09:23.468Z"
   },
   {
    "duration": 4,
    "start_time": "2021-11-16T11:10:01.455Z"
   },
   {
    "duration": 3,
    "start_time": "2021-11-16T11:10:05.069Z"
   },
   {
    "duration": 4,
    "start_time": "2021-11-16T11:10:13.376Z"
   },
   {
    "duration": 3,
    "start_time": "2021-11-16T11:10:14.434Z"
   },
   {
    "duration": 3,
    "start_time": "2021-11-16T11:10:22.853Z"
   },
   {
    "duration": 4,
    "start_time": "2021-11-16T11:27:29.279Z"
   },
   {
    "duration": 4,
    "start_time": "2021-11-16T11:29:08.919Z"
   },
   {
    "duration": 118,
    "start_time": "2021-11-16T11:29:46.703Z"
   },
   {
    "duration": 437,
    "start_time": "2021-11-16T11:36:02.181Z"
   },
   {
    "duration": 157,
    "start_time": "2021-11-16T11:36:14.388Z"
   },
   {
    "duration": 207,
    "start_time": "2021-11-16T11:47:15.898Z"
   },
   {
    "duration": 3,
    "start_time": "2021-11-16T11:53:52.092Z"
   },
   {
    "duration": 3,
    "start_time": "2021-11-16T11:53:52.236Z"
   },
   {
    "duration": 3,
    "start_time": "2021-11-16T11:59:12.005Z"
   },
   {
    "duration": 112,
    "start_time": "2021-11-16T12:00:33.446Z"
   },
   {
    "duration": 3,
    "start_time": "2021-11-16T12:02:14.453Z"
   },
   {
    "duration": 3,
    "start_time": "2021-11-16T12:02:39.512Z"
   },
   {
    "duration": 106,
    "start_time": "2021-11-16T12:03:03.460Z"
   },
   {
    "duration": 3,
    "start_time": "2021-11-17T20:37:21.139Z"
   },
   {
    "duration": 3,
    "start_time": "2021-11-17T20:37:22.229Z"
   },
   {
    "duration": 3,
    "start_time": "2021-11-17T20:38:38.806Z"
   },
   {
    "duration": 3,
    "start_time": "2021-11-17T20:38:41.958Z"
   },
   {
    "duration": 3,
    "start_time": "2021-11-17T20:43:46.551Z"
   },
   {
    "duration": 4,
    "start_time": "2021-11-17T20:58:21.835Z"
   },
   {
    "duration": 3,
    "start_time": "2021-11-17T20:59:21.872Z"
   },
   {
    "duration": 4,
    "start_time": "2021-11-17T20:59:45.352Z"
   },
   {
    "duration": 4,
    "start_time": "2021-11-17T20:59:49.646Z"
   },
   {
    "duration": 159,
    "start_time": "2021-11-17T21:02:26.949Z"
   },
   {
    "duration": 3,
    "start_time": "2021-11-17T21:03:53.461Z"
   },
   {
    "duration": 3,
    "start_time": "2021-11-17T21:03:53.694Z"
   },
   {
    "duration": 3,
    "start_time": "2021-11-17T21:05:28.145Z"
   },
   {
    "duration": 116,
    "start_time": "2021-11-17T21:05:57.787Z"
   },
   {
    "duration": 3,
    "start_time": "2021-11-17T21:06:37.993Z"
   },
   {
    "duration": 3,
    "start_time": "2021-11-17T21:06:38.261Z"
   },
   {
    "duration": 3,
    "start_time": "2021-11-17T21:11:54.358Z"
   },
   {
    "duration": 3,
    "start_time": "2021-11-17T21:12:43.846Z"
   },
   {
    "duration": 4,
    "start_time": "2021-11-17T21:13:08.773Z"
   },
   {
    "duration": 3,
    "start_time": "2021-11-17T21:14:44.441Z"
   },
   {
    "duration": 3,
    "start_time": "2021-11-17T21:15:42.059Z"
   },
   {
    "duration": 4,
    "start_time": "2021-11-17T21:15:51.995Z"
   },
   {
    "duration": 3,
    "start_time": "2021-11-17T21:15:53.923Z"
   },
   {
    "duration": 3,
    "start_time": "2021-11-17T21:15:55.282Z"
   },
   {
    "duration": 3,
    "start_time": "2021-11-17T21:16:28.492Z"
   },
   {
    "duration": 3,
    "start_time": "2021-11-17T21:16:32.603Z"
   },
   {
    "duration": 3,
    "start_time": "2021-11-17T21:17:06.941Z"
   },
   {
    "duration": 98,
    "start_time": "2021-11-17T21:18:05.733Z"
   },
   {
    "duration": 4,
    "start_time": "2021-11-17T21:21:35.255Z"
   },
   {
    "duration": 3,
    "start_time": "2021-11-17T21:21:37.804Z"
   },
   {
    "duration": 4,
    "start_time": "2021-11-17T21:23:06.071Z"
   },
   {
    "duration": 3,
    "start_time": "2021-11-17T21:23:24.799Z"
   },
   {
    "duration": 3,
    "start_time": "2021-11-17T21:23:32.591Z"
   },
   {
    "duration": 98,
    "start_time": "2021-11-17T21:28:31.559Z"
   },
   {
    "duration": 3,
    "start_time": "2021-11-17T21:28:45.448Z"
   },
   {
    "duration": 3,
    "start_time": "2021-11-17T21:29:17.303Z"
   },
   {
    "duration": 3,
    "start_time": "2021-11-17T21:29:29.617Z"
   },
   {
    "duration": 3,
    "start_time": "2021-11-17T21:29:32.681Z"
   },
   {
    "duration": 3,
    "start_time": "2021-11-17T21:36:11.474Z"
   },
   {
    "duration": 3,
    "start_time": "2021-11-17T21:36:14.791Z"
   },
   {
    "duration": 3,
    "start_time": "2021-11-17T21:36:53.943Z"
   },
   {
    "duration": 3,
    "start_time": "2021-11-17T21:36:56.165Z"
   },
   {
    "duration": 4,
    "start_time": "2021-11-17T21:37:16.590Z"
   },
   {
    "duration": 3,
    "start_time": "2021-11-17T21:37:22.702Z"
   },
   {
    "duration": 4,
    "start_time": "2021-11-17T21:38:03.479Z"
   },
   {
    "duration": 3,
    "start_time": "2021-11-17T21:38:08.601Z"
   },
   {
    "duration": 3,
    "start_time": "2021-11-17T21:38:12.928Z"
   },
   {
    "duration": 3,
    "start_time": "2021-11-17T21:38:48.896Z"
   },
   {
    "duration": 2,
    "start_time": "2021-11-17T21:38:49.171Z"
   },
   {
    "duration": 4,
    "start_time": "2021-11-17T21:39:57.889Z"
   },
   {
    "duration": 3,
    "start_time": "2021-11-17T21:39:58.057Z"
   },
   {
    "duration": 3,
    "start_time": "2021-11-17T21:41:20.108Z"
   },
   {
    "duration": 3,
    "start_time": "2021-11-17T21:41:20.629Z"
   },
   {
    "duration": 3,
    "start_time": "2021-11-17T21:42:49.136Z"
   },
   {
    "duration": 3,
    "start_time": "2021-11-17T21:43:15.137Z"
   },
   {
    "duration": 4,
    "start_time": "2021-11-17T21:43:16.766Z"
   },
   {
    "duration": 4,
    "start_time": "2021-11-17T21:43:31.711Z"
   },
   {
    "duration": 3,
    "start_time": "2021-11-17T21:43:36.312Z"
   },
   {
    "duration": 4,
    "start_time": "2021-11-17T21:45:08.825Z"
   },
   {
    "duration": 4,
    "start_time": "2021-11-17T21:45:10.119Z"
   },
   {
    "duration": 4,
    "start_time": "2021-11-17T21:45:13.748Z"
   },
   {
    "duration": 3,
    "start_time": "2021-11-17T21:45:22.219Z"
   },
   {
    "duration": 3,
    "start_time": "2021-11-17T21:45:33.412Z"
   },
   {
    "duration": 2,
    "start_time": "2021-11-17T21:46:01.885Z"
   },
   {
    "duration": 3,
    "start_time": "2021-11-17T21:46:03.628Z"
   },
   {
    "duration": 107,
    "start_time": "2021-11-17T21:47:32.512Z"
   },
   {
    "duration": 103,
    "start_time": "2021-11-17T21:50:36.243Z"
   },
   {
    "duration": 3,
    "start_time": "2021-11-18T06:28:31.440Z"
   },
   {
    "duration": 3,
    "start_time": "2021-11-18T06:29:00.168Z"
   },
   {
    "duration": 3,
    "start_time": "2021-11-18T06:31:27.008Z"
   },
   {
    "duration": 2,
    "start_time": "2021-11-18T06:35:34.288Z"
   },
   {
    "duration": 2,
    "start_time": "2021-11-18T06:38:04.527Z"
   }
  ],
  "kernelspec": {
   "display_name": "Python 3 (ipykernel)",
   "language": "python",
   "name": "python3"
  },
  "language_info": {
   "codemirror_mode": {
    "name": "ipython",
    "version": 3
   },
   "file_extension": ".py",
   "mimetype": "text/x-python",
   "name": "python",
   "nbconvert_exporter": "python",
   "pygments_lexer": "ipython3",
   "version": "3.9.13"
  },
  "toc": {
   "base_numbering": 1,
   "nav_menu": {},
   "number_sections": true,
   "sideBar": true,
   "skip_h1_title": false,
   "title_cell": "Table of Contents",
   "title_sidebar": "Contents",
   "toc_cell": false,
   "toc_position": {
    "height": "calc(100% - 180px)",
    "left": "10px",
    "top": "150px",
    "width": "273.797px"
   },
   "toc_section_display": true,
   "toc_window_display": false
  }
 },
 "nbformat": 4,
 "nbformat_minor": 2
}
